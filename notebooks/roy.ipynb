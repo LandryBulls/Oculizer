{
 "cells": [
  {
   "cell_type": "code",
   "execution_count": 1,
   "metadata": {},
   "outputs": [],
   "source": [
    "import sounddevice as sd\n",
    "import numpy as np\n",
    "import time\n",
    "from tqdm import tqdm\n",
    "import threading\n",
    "from scipy import signal\n",
    "from random import randint\n",
    "import matplotlib.pyplot as plt\n",
    "import librosa\n",
    "from tqdm import tqdm\n",
    "import random\n",
    "from PyDMXControl.controllers import OpenDMXController\n",
    "from PyDMXControl.profiles.Generic import Dimmer, Custom\n",
    "%matplotlib inline"
   ]
  },
  {
   "cell_type": "code",
   "execution_count": 2,
   "metadata": {},
   "outputs": [
    {
     "data": {
      "text/plain": [
       "<PyDMXControl.profiles.Generic._Custom.Custom at 0x130b197d0>"
      ]
     },
     "execution_count": 2,
     "metadata": {},
     "output_type": "execute_result"
    }
   ],
   "source": [
    "# find the Clarett and use it\n",
    "for d in sd.query_devices():\n",
    "    if d['name'].find('Scarlett 18i20 USB') >= 0:\n",
    "        dev = d['name']\n",
    "        break\n",
    "\n",
    "SAMPLERATE = 16000\n",
    "# set the blocksize to 20Hz\n",
    "MINIMUM_FREQUENCY = 20\n",
    "BLOCKSIZE = int(round(SAMPLERATE/MINIMUM_FREQUENCY))\n",
    "\n",
    "\n",
    "dmx = OpenDMXController()\n",
    "l1 = dmx.add_fixture(Custom(channels=7, start_channel=1))# make a dict of RGB colors to their DMX values\n",
    "l2 = dmx.add_fixture(Custom(channels=7, start_channel=8))# make a dict of RGB colors to their DMX values\n",
    "l3 = dmx.add_fixture(Custom(channels=7, start_channel=16))# make a dict of RGB colors to their DMX values\n",
    "l4 = dmx.add_fixture(Custom(channels=7, start_channel=24))# make a dict of RGB colors to their DMX values\n",
    "# this is the color wheel\n",
    "# something nice about this is that if you want to make a color, you can just average the values of the colors you want to mix\n",
    "\n",
    "colors = {\n",
    "    'red': [255, 0, 0],\n",
    "    'orange': [255, 127, 0],\n",
    "    'yellow': [255, 255, 0],\n",
    "    'green': [0, 255, 0],\n",
    "    'blue': [0, 0, 255],\n",
    "    'purple': [75, 0, 130],\n",
    "    'pink': [255, 0, 255],\n",
    "    'white': [255, 255, 255]\n",
    "}\n",
    "\n",
    "def hex_to_rgb(hex):\n",
    "  return tuple(int(hex[i:i+2], 16) for i in (0, 2, 4))\n",
    "\n",
    "def random_color():\n",
    "    \"\"\"\n",
    "    Returns a random color from the color wheel\n",
    "    \"\"\"\n",
    "    return np.random.choice(list(colors.keys()))\n",
    "\n",
    "def RGB(brightness=255, color='pink', strobe=False, strobe_speed=255):\n",
    "    \"\"\"\n",
    "    Returns the list of 7 DMX values for the RGB light\n",
    "    \"\"\"\n",
    "    if strobe:\n",
    "        strobe_val = 255\n",
    "    else:\n",
    "        strobe_val = 0\n",
    "    return [brightness, colors[color][0], colors[color][1], colors[color][2], strobe_val, 0, 0]\n",
    "\n",
    "def RGB2(color, brightness):\n",
    "    \"\"\"\n",
    "    Returns the list of 7 DMX values for the RGB light\n",
    "    \"\"\"\n",
    "    return [brightness, color[0], color[1], color[2], 0, 0, 0]\n",
    "\n",
    "# set them to blue\n",
    "l1.set_channels(RGB(color='blue'))\n",
    "l2.set_channels(RGB(color='yellow'))\n",
    "l3.set_channels(RGB(color='green'))\n",
    "l4.set_channels(RGB(color='purple'))\n"
   ]
  },
  {
   "cell_type": "code",
   "execution_count": 3,
   "metadata": {},
   "outputs": [],
   "source": [
    "# pink = (170,68,131)\n",
    "# yellow = (224,169,49)\n",
    "# blue = (83,116,170)\n",
    "# white = (250,239,237)"
   ]
  },
  {
   "cell_type": "code",
   "execution_count": 4,
   "metadata": {},
   "outputs": [
    {
     "data": {
      "text/plain": [
       "<PyDMXControl.profiles.Generic._Custom.Custom at 0x130eacdd0>"
      ]
     },
     "execution_count": 4,
     "metadata": {},
     "output_type": "execute_result"
    }
   ],
   "source": [
    "l1.set_channels(RGB(color='white'))\n",
    "l2.set_channels(RGB(color='yellow'))\n",
    "l3.set_channels(RGB(color='pink'))\n",
    "l4.set_channels(RGB(color='blue'))"
   ]
  },
  {
   "cell_type": "code",
   "execution_count": 4,
   "metadata": {},
   "outputs": [],
   "source": [
    "# function for converting an rms value to a dmx value between 20 and 230, given the range of the rms values\n",
    "range2 = (1, 255)\n",
    "epsilon = 0.000001\n",
    "def rms_to_dmx(rms, range1, range2):\n",
    "    stoc = randint(0, 1)\n",
    "    # range is a tuple of the minimum and maximum rms values\n",
    "    # first, normalize the rms value to between 0 and 1\n",
    "    norm = (rms - range1[0])/((range1[1] - range1[0]) + epsilon)\n",
    "    # then, convert that to the range of dmx values\n",
    "    if rms >= range1[1:]:\n",
    "        return range2[1] - stoc\n",
    "    elif rms <= range1[0]:\n",
    "        return range2[0] + stoc\n",
    "    else:\n",
    "        val = int(norm*range2[1] + range2[0]) #+ stoc\n",
    "        if val > 255:\n",
    "            val = range2[1] #- stoc\n",
    "        elif val < 0:\n",
    "            val = range2[0] #+ stoc\n",
    "        else:\n",
    "            val = val\n",
    "        return val\n",
    "    "
   ]
  },
  {
   "cell_type": "code",
   "execution_count": 5,
   "metadata": {},
   "outputs": [],
   "source": [
    "#rms1s, rms2s, rms3s, rms4s = [], [], [], []\n",
    "ch1_range = (0.0,0.5)\n",
    "ch2_range = (0.0,0.5)\n",
    "ch3_range = (0.0,0.5)\n",
    "ch4_range = (0.0,0.5)\n",
    "\n",
    "def light_sound(indata, outdata, frames, time, status=None):\n",
    "    ch1, ch2, ch3, ch4 = indata[:, 0], indata[:, 1], indata[:, 2], indata[:, 3]\n",
    "    # get the rms of the signal for each channel\n",
    "    rms1 = np.sqrt(np.mean(ch1**2))\n",
    "    rms2 = np.sqrt(np.mean(ch2**2))\n",
    "    rms3 = np.sqrt(np.mean(ch3**2))\n",
    "    rms4 = np.sqrt(np.mean(ch4**2))\n",
    "    #rms1s.append(rms1)\n",
    "    #rms2s.append(rms2)\n",
    "    #rms3s.append(rms3)\n",
    "    #rms4s.append(rms4)\n",
    "    # convert the rms values to dmx values\n",
    "    dmx1 = rms_to_dmx(rms1, ch1_range, range2)\n",
    "    dmx2 = rms_to_dmx(rms2, ch2_range, range2)\n",
    "    dmx3 = rms_to_dmx(rms3, ch3_range, range2)\n",
    "    dmx4 = rms_to_dmx(rms4, ch4_range, range2)\n",
    "    # set the light values\n",
    "    l1.set_channels(RGB(brightness=dmx1, color='white'))\n",
    "    l2.set_channels(RGB(brightness=dmx2, color='yellow'))\n",
    "    l3.set_channels(RGB(brightness=dmx3, color='pink'))\n",
    "    l4.set_channels(RGB(brightness=dmx4, color='blue'))\n"
   ]
  },
  {
   "cell_type": "code",
   "execution_count": 6,
   "metadata": {},
   "outputs": [
    {
     "ename": "KeyboardInterrupt",
     "evalue": "",
     "output_type": "error",
     "traceback": [
      "\u001b[0;31m---------------------------------------------------------------------------\u001b[0m",
      "\u001b[0;31mKeyboardInterrupt\u001b[0m                         Traceback (most recent call last)",
      "Cell \u001b[0;32mIn[6], line 3\u001b[0m\n\u001b[1;32m      1\u001b[0m \u001b[38;5;28;01mwith\u001b[39;00m sd\u001b[38;5;241m.\u001b[39mInputStream(callback\u001b[38;5;241m=\u001b[39mlight_sound, device\u001b[38;5;241m=\u001b[39mdev, channels\u001b[38;5;241m=\u001b[39m\u001b[38;5;241m4\u001b[39m, samplerate\u001b[38;5;241m=\u001b[39m\u001b[38;5;241m16000\u001b[39m, blocksize\u001b[38;5;241m=\u001b[39mBLOCKSIZE):\n\u001b[1;32m      2\u001b[0m     \u001b[38;5;28;01mwhile\u001b[39;00m \u001b[38;5;28;01mTrue\u001b[39;00m:\n\u001b[0;32m----> 3\u001b[0m         \u001b[38;5;28;01mcontinue\u001b[39;00m\n",
      "\u001b[0;31mKeyboardInterrupt\u001b[0m: "
     ]
    },
    {
     "ename": "",
     "evalue": "",
     "output_type": "error",
     "traceback": [
      "\u001b[1;31mThe Kernel crashed while executing code in the current cell or a previous cell. \n",
      "\u001b[1;31mPlease review the code in the cell(s) to identify a possible cause of the failure. \n",
      "\u001b[1;31mClick <a href='https://aka.ms/vscodeJupyterKernelCrash'>here</a> for more info. \n",
      "\u001b[1;31mView Jupyter <a href='command:jupyter.viewOutput'>log</a> for further details."
     ]
    }
   ],
   "source": [
    "with sd.InputStream(callback=light_sound, device=dev, channels=4, samplerate=16000, blocksize=BLOCKSIZE):\n",
    "    while True:\n",
    "        continue"
   ]
  },
  {
   "cell_type": "code",
   "execution_count": 13,
   "metadata": {},
   "outputs": [
    {
     "data": {
      "text/plain": [
       "<matplotlib.legend.Legend at 0x12ba98d50>"
      ]
     },
     "execution_count": 13,
     "metadata": {},
     "output_type": "execute_result"
    },
    {
     "data": {
      "image/png": "[encoded data removed]",
      "text/plain": [
       "<Figure size 640x480 with 1 Axes>"
      ]
     },
     "metadata": {},
     "output_type": "display_data"
    }
   ],
   "source": [
    "# plt.hist(rms1s, bins=100, alpha=0.5, label='Channel 1')\n",
    "# plt.hist(rms2s, bins=100, alpha=0.5, label='Channel 2')\n",
    "# # plot vertical lines for the means and each quartile for each channel, labeled\n",
    "# plt.axvline(np.mean(rms1s), color='blue', label='Channel 1 Mean')\n",
    "# plt.axvline(np.mean(rms2s), color='orange', label='Channel 2 Mean')\n",
    "# plt.axvline(np.percentile(rms1s, 25), color='blue', linestyle='--', label='Channel 1 Q1')\n",
    "# plt.axvline(np.percentile(rms1s, 50), color='blue', linestyle='-', label='Channel 1 Median')\n",
    "# plt.axvline(np.percentile(rms1s, 75), color='blue', linestyle=':', label='Channel 1 Q3')\n",
    "# plt.axvline(np.percentile(rms2s, 25), color='orange', linestyle='--', label='Channel 2 Q1')\n",
    "# plt.axvline(np.percentile(rms2s, 50), color='orange', linestyle='-', label='Channel 2 Median')\n",
    "# plt.axvline(np.percentile(rms2s, 75), color='orange', linestyle=':', label='Channel 2 Q3')\n",
    "# plt.legend()"
   ]
  },
  {
   "cell_type": "code",
   "execution_count": 6,
   "metadata": {},
   "outputs": [],
   "source": [
    "def random_color():\n",
    "    \"\"\"\n",
    "    Returns a random color from the color wheel\n",
    "    \"\"\"\n",
    "    return np.random.choice(list(colors.keys()))"
   ]
  },
  {
   "cell_type": "code",
   "execution_count": 10,
   "metadata": {},
   "outputs": [
    {
     "data": {
      "text/plain": [
       "<PyDMXControl.profiles.Generic._Custom.Custom at 0x12a2ffcd0>"
      ]
     },
     "execution_count": 10,
     "metadata": {},
     "output_type": "execute_result"
    },
    {
     "ename": "",
     "evalue": "",
     "output_type": "error",
     "traceback": [
      "\u001b[1;31mThe Kernel crashed while executing code in the current cell or a previous cell. \n",
      "\u001b[1;31mPlease review the code in the cell(s) to identify a possible cause of the failure. \n",
      "\u001b[1;31mClick <a href='https://aka.ms/vscodeJupyterKernelCrash'>here</a> for more info. \n",
      "\u001b[1;31mView Jupyter <a href='command:jupyter.viewOutput'>log</a> for further details."
     ]
    }
   ],
   "source": [
    "# set both to rainbow strobe for 5 seconds\n",
    "t0 = time.time()\n",
    "while time.time() - t0 < 5:\n",
    "    c1 = random_color()\n",
    "    c2 = random_color()\n",
    "    l1.set_channels(RGB(strobe=True, strobe_speed=255, color=c1))\n",
    "    l2.set_channels(RGB(strobe=True, strobe_speed=255, color=c2))\n",
    "    time.sleep(0.1)\n",
    "l1.set_channels(RGB(color='blue'))\n",
    "l2.set_channels(RGB(color='yellow'))"
   ]
  },
  {
   "cell_type": "code",
   "execution_count": 9,
   "metadata": {},
   "outputs": [
    {
     "data": {
      "text/plain": [
       "<PyDMXControl.profiles.Generic._Custom.Custom at 0x12a2ffcd0>"
      ]
     },
     "execution_count": 9,
     "metadata": {},
     "output_type": "execute_result"
    }
   ],
   "source": [
    "# turn them off\n",
    "l1.set_channels(RGB(brightness=0))\n",
    "l2.set_channels(RGB(brightness=0))"
   ]
  },
  {
   "cell_type": "code",
   "execution_count": null,
   "metadata": {},
   "outputs": [],
   "source": []
  }
 ],
 "metadata": {
  "kernelspec": {
   "display_name": "spotify",
   "language": "python",
   "name": "python3"
  },
  "language_info": {
   "codemirror_mode": {
    "name": "ipython",
    "version": 3
   },
   "file_extension": ".py",
   "mimetype": "text/x-python",
   "name": "python",
   "nbconvert_exporter": "python",
   "pygments_lexer": "ipython3",
   "version": "3.11.6"
  }
 },
 "nbformat": 4,
 "nbformat_minor": 2
}
