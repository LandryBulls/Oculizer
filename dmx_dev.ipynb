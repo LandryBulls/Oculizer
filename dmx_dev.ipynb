{
 "cells": [
  {
   "cell_type": "markdown",
   "metadata": {},
   "source": [
    "# DMX Dev Notebook\n",
    "Use this notebook to develop code to automatic DMX light fixtures to system sound"
   ]
  },
  {
   "cell_type": "code",
   "execution_count": 117,
   "metadata": {},
   "outputs": [],
   "source": [
    "import sounddevice as sd\n",
    "import numpy as np\n",
    "import time\n",
    "from tqdm import tqdm"
   ]
  },
  {
   "cell_type": "code",
   "execution_count": 118,
   "metadata": {},
   "outputs": [],
   "source": [
    "from PyDMXControl.controllers import OpenDMXController\n",
    "from PyDMXControl.profiles.Generic import Dimmer"
   ]
  },
  {
   "cell_type": "code",
   "execution_count": 119,
   "metadata": {},
   "outputs": [
    {
     "name": "stderr",
     "output_type": "stream",
     "text": [
      "/Users/f004swn/anaconda3/envs/spotify/lib/python3.12/site-packages/PyDMXControl/utils/timing/_Ticker.py:79: UserWarning: Ticker loop behind by 0.03426106770833215ms, took 16.700927734375ms\n",
      "  warn(\"Ticker loop behind by {:,}ms, took {:,}ms\".format(-wait_dur, loop_dur))\n"
     ]
    }
   ],
   "source": [
    "\n",
    "# Create an instance of the uDMX controller, \n",
    "#  this holds all the fixture information and outputs it.\n",
    "# This will start outputting data immediately.\n",
    "dmx = OpenDMXController()"
   ]
  },
  {
   "cell_type": "code",
   "execution_count": 121,
   "metadata": {},
   "outputs": [
    {
     "name": "stderr",
     "output_type": "stream",
     "text": [
      "/Users/f004swn/anaconda3/envs/spotify/lib/python3.12/site-packages/PyDMXControl/utils/timing/_Ticker.py:79: UserWarning: Ticker loop behind by 5.656331380208332ms, took 22.322998046875ms\n",
      "  warn(\"Ticker loop behind by {:,}ms, took {:,}ms\".format(-wait_dur, loop_dur))\n"
     ]
    }
   ],
   "source": [
    "# create a dictionary of fixtures\n",
    "# channels 1-4 are dimmers\n",
    "# channel 5 is strobe intensity, 6 is strobe speed\n",
    "lights = {}\n",
    "for i in range(1, 5):\n",
    "    lights[str(i)] = dmx.add_fixture(Dimmer)\n",
    "lights['strobe_intensity'] = dmx.add_fixture(Dimmer)\n",
    "lights['strobe_speed'] = dmx.add_fixture(Dimmer)"
   ]
  },
  {
   "cell_type": "code",
   "execution_count": 122,
   "metadata": {},
   "outputs": [
    {
     "data": {
      "text/plain": [
       "<PyDMXControl.profiles.Generic._Dimmer.Dimmer at 0x11312c6b0>"
      ]
     },
     "execution_count": 122,
     "metadata": {},
     "output_type": "execute_result"
    }
   ],
   "source": [
    "# turn 1-4 on\n",
    "lights['1'].dim(255)\n",
    "lights['2'].dim(255)\n",
    "lights['3'].dim(255)\n",
    "lights['4'].dim(255)"
   ]
  },
  {
   "cell_type": "code",
   "execution_count": 123,
   "metadata": {},
   "outputs": [
    {
     "data": {
      "text/plain": [
       "<PyDMXControl.profiles.Generic._Dimmer.Dimmer at 0x11312c6b0>"
      ]
     },
     "execution_count": 123,
     "metadata": {},
     "output_type": "execute_result"
    },
    {
     "name": "stderr",
     "output_type": "stream",
     "text": [
      "/Users/f004swn/anaconda3/envs/spotify/lib/python3.12/site-packages/PyDMXControl/utils/timing/_Ticker.py:79: UserWarning: Ticker loop behind by 3.478108723958332ms, took 20.144775390625ms\n",
      "  warn(\"Ticker loop behind by {:,}ms, took {:,}ms\".format(-wait_dur, loop_dur))\n"
     ]
    }
   ],
   "source": [
    "# turn 1-4 off\n",
    "lights['1'].dim(0)\n",
    "lights['2'].dim(0)\n",
    "lights['3'].dim(0)\n",
    "lights['4'].dim(0)"
   ]
  },
  {
   "cell_type": "code",
   "execution_count": 124,
   "metadata": {},
   "outputs": [
    {
     "data": {
      "text/plain": [
       "<PyDMXControl.profiles.Generic._Dimmer.Dimmer at 0x11312e450>"
      ]
     },
     "execution_count": 124,
     "metadata": {},
     "output_type": "execute_result"
    },
    {
     "name": "stderr",
     "output_type": "stream",
     "text": [
      "/Users/f004swn/anaconda3/envs/spotify/lib/python3.12/site-packages/PyDMXControl/utils/timing/_Ticker.py:79: UserWarning: Ticker loop behind by 3.295247395833332ms, took 19.9619140625ms\n",
      "  warn(\"Ticker loop behind by {:,}ms, took {:,}ms\".format(-wait_dur, loop_dur))\n",
      "/Users/f004swn/anaconda3/envs/spotify/lib/python3.12/site-packages/PyDMXControl/utils/timing/_Ticker.py:79: UserWarning: Ticker loop behind by 2.326497395833332ms, took 18.9931640625ms\n",
      "  warn(\"Ticker loop behind by {:,}ms, took {:,}ms\".format(-wait_dur, loop_dur))\n",
      "/Users/f004swn/anaconda3/envs/spotify/lib/python3.12/site-packages/PyDMXControl/utils/timing/_Ticker.py:79: UserWarning: Ticker loop behind by 3.425374348958332ms, took 20.092041015625ms\n",
      "  warn(\"Ticker loop behind by {:,}ms, took {:,}ms\".format(-wait_dur, loop_dur))\n",
      "/Users/f004swn/anaconda3/envs/spotify/lib/python3.12/site-packages/PyDMXControl/utils/timing/_Ticker.py:79: UserWarning: Ticker loop behind by 3.807454427083332ms, took 20.47412109375ms\n",
      "  warn(\"Ticker loop behind by {:,}ms, took {:,}ms\".format(-wait_dur, loop_dur))\n",
      "/Users/f004swn/anaconda3/envs/spotify/lib/python3.12/site-packages/PyDMXControl/utils/timing/_Ticker.py:79: UserWarning: Ticker loop behind by 3.448323567708332ms, took 20.114990234375ms\n",
      "  warn(\"Ticker loop behind by {:,}ms, took {:,}ms\".format(-wait_dur, loop_dur))\n",
      "/Users/f004swn/anaconda3/envs/spotify/lib/python3.12/site-packages/PyDMXControl/utils/timing/_Ticker.py:79: UserWarning: Ticker loop behind by 5.393391927083332ms, took 22.06005859375ms\n",
      "  warn(\"Ticker loop behind by {:,}ms, took {:,}ms\".format(-wait_dur, loop_dur))\n",
      "/Users/f004swn/anaconda3/envs/spotify/lib/python3.12/site-packages/PyDMXControl/utils/timing/_Ticker.py:79: UserWarning: Ticker loop behind by 0.38167317708333215ms, took 17.04833984375ms\n",
      "  warn(\"Ticker loop behind by {:,}ms, took {:,}ms\".format(-wait_dur, loop_dur))\n",
      "/Users/f004swn/anaconda3/envs/spotify/lib/python3.12/site-packages/PyDMXControl/utils/timing/_Ticker.py:79: UserWarning: Ticker loop behind by 4.215169270833332ms, took 20.8818359375ms\n",
      "  warn(\"Ticker loop behind by {:,}ms, took {:,}ms\".format(-wait_dur, loop_dur))\n",
      "/Users/f004swn/anaconda3/envs/spotify/lib/python3.12/site-packages/PyDMXControl/utils/timing/_Ticker.py:79: UserWarning: Ticker loop behind by 3.193196614583332ms, took 19.85986328125ms\n",
      "  warn(\"Ticker loop behind by {:,}ms, took {:,}ms\".format(-wait_dur, loop_dur))\n",
      "/Users/f004swn/anaconda3/envs/spotify/lib/python3.12/site-packages/PyDMXControl/utils/timing/_Ticker.py:79: UserWarning: Ticker loop behind by 2.880208333333332ms, took 19.546875ms\n",
      "  warn(\"Ticker loop behind by {:,}ms, took {:,}ms\".format(-wait_dur, loop_dur))\n",
      "/Users/f004swn/anaconda3/envs/spotify/lib/python3.12/site-packages/PyDMXControl/utils/timing/_Ticker.py:79: UserWarning: Ticker loop behind by 3.487386067708332ms, took 20.154052734375ms\n",
      "  warn(\"Ticker loop behind by {:,}ms, took {:,}ms\".format(-wait_dur, loop_dur))\n",
      "/Users/f004swn/anaconda3/envs/spotify/lib/python3.12/site-packages/PyDMXControl/utils/timing/_Ticker.py:79: UserWarning: Ticker loop behind by 1,267.9947102864583ms, took 1,284.661376953125ms\n",
      "  warn(\"Ticker loop behind by {:,}ms, took {:,}ms\".format(-wait_dur, loop_dur))\n",
      "/Users/f004swn/anaconda3/envs/spotify/lib/python3.12/site-packages/PyDMXControl/utils/timing/_Ticker.py:79: UserWarning: Ticker loop behind by 0.9532063802083321ms, took 17.619873046875ms\n",
      "  warn(\"Ticker loop behind by {:,}ms, took {:,}ms\".format(-wait_dur, loop_dur))\n"
     ]
    }
   ],
   "source": [
    "# turn on strobe full blast for one second\n",
    "lights['strobe_intensity'].dim(255)\n",
    "lights['strobe_speed'].dim(255)\n",
    "time.sleep(1)\n",
    "lights['strobe_intensity'].dim(0)\n",
    "lights['strobe_speed'].dim(0)\n"
   ]
  },
  {
   "cell_type": "code",
   "execution_count": 111,
   "metadata": {},
   "outputs": [
    {
     "data": {
      "text/plain": [
       "<PyDMXControl.profiles.Generic._Dimmer.Dimmer at 0x11311ecc0>"
      ]
     },
     "execution_count": 111,
     "metadata": {},
     "output_type": "execute_result"
    }
   ],
   "source": [
    "# set max strobe intensity and speed\n",
    "time.sleep(1)\n",
    "lights['strobe_intensity'].on()\n",
    "lights['strobe_speed'].on()\n",
    "time.sleep(5)\n",
    "lights['strobe_intensity'].dim(0, 0)\n",
    "lights['strobe_speed'].dim(0, 0)"
   ]
  },
  {
   "cell_type": "code",
   "execution_count": 27,
   "metadata": {},
   "outputs": [],
   "source": [
    "\n",
    "# Add a new Dimmer fixture to our controller\n",
    "#  and save it to a variable so we can access it.\n",
    "# We give it a name so it's easier to identify in the debug control options.\n",
    "fixture = dmx.add_fixture(Dimmer, name=\"My_First_Dimmer\")\n"
   ]
  },
  {
   "cell_type": "code",
   "execution_count": 28,
   "metadata": {},
   "outputs": [
    {
     "data": {
      "text/plain": [
       "<PyDMXControl.profiles.Generic._Dimmer.Dimmer at 0x11311dfa0>"
      ]
     },
     "execution_count": 28,
     "metadata": {},
     "output_type": "execute_result"
    }
   ],
   "source": [
    "\n",
    "# Next, dim the intensity of the fixture from it's initial value of zero\n",
    "#  to full, which is represented as 255 in DMX.\n",
    "# This is done over 5000 milliseconds, or 5 seconds.\n",
    "fixture.dim(255, 0)\n"
   ]
  },
  {
   "cell_type": "code",
   "execution_count": 24,
   "metadata": {},
   "outputs": [
    {
     "data": {
      "text/plain": [
       "<PyDMXControl.profiles.Generic._Dimmer.Dimmer at 0x11311e540>"
      ]
     },
     "execution_count": 24,
     "metadata": {},
     "output_type": "execute_result"
    }
   ],
   "source": [
    "fixture.dim(255, 0)"
   ]
  },
  {
   "cell_type": "code",
   "execution_count": 18,
   "metadata": {},
   "outputs": [
    {
     "data": {
      "text/plain": [
       "<PyDMXControl.profiles.Generic._Dimmer.Dimmer at 0x10bf4bef0>"
      ]
     },
     "execution_count": 18,
     "metadata": {},
     "output_type": "execute_result"
    }
   ],
   "source": [
    "# slowly dim the intensity of the fixture from full to zero\n",
    "#  over 10 seconds.\n",
    "fixture.dim(0, 1000)\n",
    "time.sleep(1)\n",
    "fixture.dim(255, 1000)\n",
    "time.sleep(1)\n",
    "fixture.dim(0, 1000)\n",
    "time.sleep(1/10)\n",
    "fixture.dim(255, 1000)"
   ]
  },
  {
   "cell_type": "code",
   "execution_count": 19,
   "metadata": {},
   "outputs": [
    {
     "ename": "KeyboardInterrupt",
     "evalue": "",
     "output_type": "error",
     "traceback": [
      "\u001b[0;31m---------------------------------------------------------------------------\u001b[0m",
      "\u001b[0;31mKeyboardInterrupt\u001b[0m                         Traceback (most recent call last)",
      "\u001b[1;32mUntitled-1.ipynb Cell 9\u001b[0m line \u001b[0;36m4\n\u001b[1;32m      <a href='vscode-notebook-cell:Untitled-1.ipynb?jupyter-notebook#X12sdW50aXRsZWQ%3D?line=1'>2</a>\u001b[0m hz \u001b[39m=\u001b[39m \u001b[39m10\u001b[39m \u001b[39m# 10Hz, 10 flashes per second\u001b[39;00m\n\u001b[1;32m      <a href='vscode-notebook-cell:Untitled-1.ipynb?jupyter-notebook#X12sdW50aXRsZWQ%3D?line=2'>3</a>\u001b[0m \u001b[39mwhile\u001b[39;00m \u001b[39mTrue\u001b[39;00m:\n\u001b[0;32m----> <a href='vscode-notebook-cell:Untitled-1.ipynb?jupyter-notebook#X12sdW50aXRsZWQ%3D?line=3'>4</a>\u001b[0m     time\u001b[39m.\u001b[39;49msleep(\u001b[39m1\u001b[39;49m\u001b[39m/\u001b[39;49mhz)\n\u001b[1;32m      <a href='vscode-notebook-cell:Untitled-1.ipynb?jupyter-notebook#X12sdW50aXRsZWQ%3D?line=4'>5</a>\u001b[0m     fixture\u001b[39m.\u001b[39mdim(\u001b[39m255\u001b[39m)\n\u001b[1;32m      <a href='vscode-notebook-cell:Untitled-1.ipynb?jupyter-notebook#X12sdW50aXRsZWQ%3D?line=5'>6</a>\u001b[0m     fixture\u001b[39m.\u001b[39mdim(\u001b[39m0\u001b[39m, \u001b[39m0\u001b[39m)\n",
      "\u001b[0;31mKeyboardInterrupt\u001b[0m: "
     ]
    }
   ],
   "source": [
    "# set the strobe frequency in hz\n",
    "hz = 10 # 10Hz, 10 flashes per second\n",
    "while True:\n",
    "    time.sleep(1/hz)\n",
    "    fixture.dim(255)\n",
    "    fixture.dim(0, 0)"
   ]
  },
  {
   "cell_type": "code",
   "execution_count": null,
   "metadata": {},
   "outputs": [],
   "source": []
  }
 ],
 "metadata": {
  "kernelspec": {
   "display_name": "spotify",
   "language": "python",
   "name": "python3"
  },
  "language_info": {
   "codemirror_mode": {
    "name": "ipython",
    "version": 3
   },
   "file_extension": ".py",
   "mimetype": "text/x-python",
   "name": "python",
   "nbconvert_exporter": "python",
   "pygments_lexer": "ipython3",
   "version": "3.12.0"
  }
 },
 "nbformat": 4,
 "nbformat_minor": 2
}
