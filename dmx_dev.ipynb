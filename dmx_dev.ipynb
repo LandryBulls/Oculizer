{
 "cells": [
  {
   "cell_type": "markdown",
   "metadata": {},
   "source": [
    "# DMX Dev Notebook\n",
    "Use this notebook to develop code to automatic DMX light fixtures to system sound"
   ]
  },
  {
   "cell_type": "code",
   "execution_count": 20,
   "metadata": {},
   "outputs": [],
   "source": [
    "import sounddevice as sd\n",
    "import numpy as np\n",
    "import time\n",
    "from tqdm import tqdm\n",
    "import threading\n",
    "from scipy import signal\n",
    "import matplotlib.pyplot as plt\n",
    "import librosa\n",
    "%matplotlib inline"
   ]
  },
  {
   "cell_type": "code",
   "execution_count": 21,
   "metadata": {},
   "outputs": [],
   "source": [
    "from PyDMXControl.controllers import OpenDMXController\n",
    "from PyDMXControl.profiles.Generic import Dimmer, Custom"
   ]
  },
  {
   "cell_type": "code",
   "execution_count": 22,
   "metadata": {},
   "outputs": [],
   "source": [
    "\n",
    "# Create an instance of the uDMX controller, \n",
    "#  this holds all the fixture information and outputs it.\n",
    "# This will start outputting data immediately.\n",
    "dmx = OpenDMXController()\n",
    "# rgb_channels = ['dimmer', 'R', 'G', 'B', 'strobe', 'p1', 'p2']\n",
    "# rgb_light1 = Custom(channels=7, start_channel=7)\n",
    "# rgb_light2 = Custom(channels=7, start_channel=14)"
   ]
  },
  {
   "cell_type": "code",
   "execution_count": 23,
   "metadata": {},
   "outputs": [],
   "source": [
    "# make the full party dict with all the lights (1 is rope lights, 2 is discoball, 3 is lasers, 4 is lamp, 5 and 6 is strobe, and then there are 8 7-channel RGB lights\n",
    "party = {}\n",
    "party['ropes'] = dmx.add_fixture(Dimmer)\n",
    "party['discoball'] = dmx.add_fixture(Dimmer)\n",
    "party['lasers'] = dmx.add_fixture(Dimmer)\n",
    "party['lamp'] = dmx.add_fixture(Dimmer)\n",
    "party['strobe_speed'] = dmx.add_fixture(Dimmer)\n",
    "party['strobe_intensity'] = dmx.add_fixture(Dimmer)\n",
    "\n",
    "for i in range(1, 9):\n",
    "    party['rgb'+str(i)] = dmx.add_fixture(Custom(channels=7, start_channel=7*i))\n",
    "null = dmx.add_fixture(Dimmer)"
   ]
  },
  {
   "cell_type": "code",
   "execution_count": 24,
   "metadata": {},
   "outputs": [
    {
     "data": {
      "text/plain": [
       "<PyDMXControl.profiles.Generic._Dimmer.Dimmer at 0x12c51fa50>"
      ]
     },
     "execution_count": 24,
     "metadata": {},
     "output_type": "execute_result"
    }
   ],
   "source": [
    "# make the strobe flash for 1 second\n",
    "party['strobe_speed'].dim(255)\n",
    "party['strobe_intensity'].dim(255)\n",
    "time.sleep(1)\n",
    "party['strobe_speed'].dim(0)\n",
    "party['strobe_intensity'].dim(0)"
   ]
  },
  {
   "cell_type": "code",
   "execution_count": 6,
   "metadata": {},
   "outputs": [
    {
     "ename": "KeyboardInterrupt",
     "evalue": "",
     "output_type": "error",
     "traceback": [
      "\u001b[0;31m---------------------------------------------------------------------------\u001b[0m",
      "\u001b[0;31mKeyboardInterrupt\u001b[0m                         Traceback (most recent call last)",
      "\u001b[1;32m/Users/f004swn/Documents/creative/PlaylistPulser/dmx_dev.ipynb Cell 6\u001b[0m line \u001b[0;36m3\n\u001b[1;32m      <a href='vscode-notebook-cell:/Users/f004swn/Documents/creative/PlaylistPulser/dmx_dev.ipynb#Y134sZmlsZQ%3D%3D?line=0'>1</a>\u001b[0m \u001b[39mwhile\u001b[39;00m \u001b[39mTrue\u001b[39;00m:\n\u001b[1;32m      <a href='vscode-notebook-cell:/Users/f004swn/Documents/creative/PlaylistPulser/dmx_dev.ipynb#Y134sZmlsZQ%3D%3D?line=1'>2</a>\u001b[0m     \u001b[39m# make RGB green\u001b[39;00m\n\u001b[0;32m----> <a href='vscode-notebook-cell:/Users/f004swn/Documents/creative/PlaylistPulser/dmx_dev.ipynb#Y134sZmlsZQ%3D%3D?line=2'>3</a>\u001b[0m     party[\u001b[39m'\u001b[39;49m\u001b[39mrgb1\u001b[39;49m\u001b[39m'\u001b[39;49m]\u001b[39m.\u001b[39;49mset_channels([\u001b[39m255\u001b[39;49m, \u001b[39m0\u001b[39;49m, \u001b[39m255\u001b[39;49m, \u001b[39m0\u001b[39;49m, \u001b[39m0\u001b[39;49m, \u001b[39m0\u001b[39;49m, \u001b[39m0\u001b[39;49m])\n",
      "File \u001b[0;32m~/anaconda3/envs/spotify/lib/python3.11/site-packages/PyDMXControl/profiles/defaults/_Fixture.py:312\u001b[0m, in \u001b[0;36mFixture.set_channels\u001b[0;34m(self, *args, **kwargs)\u001b[0m\n\u001b[1;32m    309\u001b[0m                 chan \u001b[39m+\u001b[39m\u001b[39m=\u001b[39m \u001b[39m1\u001b[39m\n\u001b[1;32m    310\u001b[0m     \u001b[39mreturn\u001b[39;00m chan \u001b[39m-\u001b[39m \u001b[39m1\u001b[39m\n\u001b[0;32m--> 312\u001b[0m apply_values(\u001b[39mself\u001b[39;49m, args, channel)\n\u001b[1;32m    314\u001b[0m \u001b[39mreturn\u001b[39;00m \u001b[39mself\u001b[39m\n",
      "File \u001b[0;32m~/anaconda3/envs/spotify/lib/python3.11/site-packages/PyDMXControl/profiles/defaults/_Fixture.py:306\u001b[0m, in \u001b[0;36mFixture.set_channels.<locals>.apply_values\u001b[0;34m(fixture, values, chan)\u001b[0m\n\u001b[1;32m    304\u001b[0m \u001b[39mif\u001b[39;00m value \u001b[39mis\u001b[39;00m \u001b[39mnot\u001b[39;00m \u001b[39mNone\u001b[39;00m:\n\u001b[1;32m    305\u001b[0m     \u001b[39mif\u001b[39;00m \u001b[39misinstance\u001b[39m(value, \u001b[39mlist\u001b[39m):\n\u001b[0;32m--> 306\u001b[0m         chan \u001b[39m=\u001b[39m apply_values(fixture, value, chan)\n\u001b[1;32m    307\u001b[0m     \u001b[39melif\u001b[39;00m \u001b[39mstr\u001b[39m(value)\u001b[39m.\u001b[39misdigit():\n\u001b[1;32m    308\u001b[0m         fixture\u001b[39m.\u001b[39mset_channel(chan, \u001b[39mint\u001b[39m(value))\n",
      "File \u001b[0;32m~/anaconda3/envs/spotify/lib/python3.11/site-packages/PyDMXControl/profiles/defaults/_Fixture.py:308\u001b[0m, in \u001b[0;36mFixture.set_channels.<locals>.apply_values\u001b[0;34m(fixture, values, chan)\u001b[0m\n\u001b[1;32m    306\u001b[0m             chan \u001b[39m=\u001b[39m apply_values(fixture, value, chan)\n\u001b[1;32m    307\u001b[0m         \u001b[39melif\u001b[39;00m \u001b[39mstr\u001b[39m(value)\u001b[39m.\u001b[39misdigit():\n\u001b[0;32m--> 308\u001b[0m             fixture\u001b[39m.\u001b[39;49mset_channel(chan, \u001b[39mint\u001b[39;49m(value))\n\u001b[1;32m    309\u001b[0m             chan \u001b[39m+\u001b[39m\u001b[39m=\u001b[39m \u001b[39m1\u001b[39m\n\u001b[1;32m    310\u001b[0m \u001b[39mreturn\u001b[39;00m chan \u001b[39m-\u001b[39m \u001b[39m1\u001b[39m\n",
      "File \u001b[0;32m~/anaconda3/envs/spotify/lib/python3.11/site-packages/PyDMXControl/profiles/defaults/_Fixture.py:294\u001b[0m, in \u001b[0;36mFixture.set_channel\u001b[0;34m(self, channel, value)\u001b[0m\n\u001b[1;32m    291\u001b[0m \u001b[39mif\u001b[39;00m \u001b[39mnot\u001b[39;00m \u001b[39mself\u001b[39m\u001b[39m.\u001b[39m_valid_channel_value(value, channel):\n\u001b[1;32m    292\u001b[0m     \u001b[39mreturn\u001b[39;00m \u001b[39mself\u001b[39m\n\u001b[0;32m--> 294\u001b[0m \u001b[39mself\u001b[39m\u001b[39m.\u001b[39m__channels[\u001b[39mself\u001b[39;49m\u001b[39m.\u001b[39;49mget_channel_id(channel)]\u001b[39m.\u001b[39mset_value(value)\n\u001b[1;32m    295\u001b[0m \u001b[39mreturn\u001b[39;00m \u001b[39mself\u001b[39m\n",
      "File \u001b[0;32m~/anaconda3/envs/spotify/lib/python3.11/site-packages/PyDMXControl/profiles/defaults/_Fixture.py:266\u001b[0m, in \u001b[0;36mFixture.get_channel_id\u001b[0;34m(self, channel)\u001b[0m\n\u001b[1;32m    263\u001b[0m channel \u001b[39m=\u001b[39m \u001b[39mstr\u001b[39m(channel)\n\u001b[1;32m    265\u001b[0m \u001b[39mif\u001b[39;00m channel\u001b[39m.\u001b[39misdigit():\n\u001b[0;32m--> 266\u001b[0m     channel_int \u001b[39m=\u001b[39m \u001b[39mint\u001b[39;49m(channel)\n\u001b[1;32m    267\u001b[0m     \u001b[39mif\u001b[39;00m channel_int \u001b[39m<\u001b[39m \u001b[39mlen\u001b[39m(\u001b[39mself\u001b[39m\u001b[39m.\u001b[39m__channels):\n\u001b[1;32m    268\u001b[0m         \u001b[39mreturn\u001b[39;00m channel_int\n",
      "\u001b[0;31mKeyboardInterrupt\u001b[0m: "
     ]
    }
   ],
   "source": [
    "while True:\n",
    "    # make RGB green\n",
    "    party['rgb1'].set_channels([255, 0, 255, 0, 0, 0, 0])"
   ]
  },
  {
   "cell_type": "code",
   "execution_count": 7,
   "metadata": {},
   "outputs": [
    {
     "data": {
      "text/plain": [
       "<PyDMXControl.profiles.Generic._Dimmer.Dimmer at 0x12d6dbb50>"
      ]
     },
     "execution_count": 7,
     "metadata": {},
     "output_type": "execute_result"
    }
   ],
   "source": [
    "# make the rgb white\n",
    "party['ropes'].dim(0)"
   ]
  },
  {
   "cell_type": "code",
   "execution_count": 31,
   "metadata": {},
   "outputs": [
    {
     "name": "stdout",
     "output_type": "stream",
     "text": [
      "Using: BlackHole 16ch\n"
     ]
    },
    {
     "name": "stderr",
     "output_type": "stream",
     "text": [
      "/Users/f004swn/anaconda3/envs/spotify/lib/python3.11/site-packages/PyDMXControl/utils/timing/_Ticker.py:79: UserWarning: Ticker loop behind by 3.348470052083332ms, took 20.01513671875ms\n",
      "  warn(\"Ticker loop behind by {:,}ms, took {:,}ms\".format(-wait_dur, loop_dur))\n"
     ]
    }
   ],
   "source": [
    "# find the black hole\n",
    "audio_devices = sd.query_devices()\n",
    "for device in audio_devices:\n",
    "    if device['name'] == 'BlackHole 16ch':\n",
    "        device_index = device['index']\n",
    "print(f'Using: {audio_devices[device_index][\"name\"]}')"
   ]
  },
  {
   "cell_type": "code",
   "execution_count": 9,
   "metadata": {},
   "outputs": [
    {
     "data": {
      "text/plain": [
       "  0 Background Music, Core Audio (2 in, 2 out)\n",
       "  1 Background Music (UI Sounds), Core Audio (2 in, 2 out)\n",
       "> 2 BlackHole 16ch, Core Audio (16 in, 16 out)\n",
       "  3 MacBook Pro Microphone, Core Audio (1 in, 0 out)\n",
       "  4 MacBook Pro Speakers, Core Audio (0 in, 2 out)\n",
       "  5 ZoomAudioDevice, Core Audio (2 in, 2 out)\n",
       "< 6 Multi-Output Device, Core Audio (0 in, 2 out)"
      ]
     },
     "execution_count": 9,
     "metadata": {},
     "output_type": "execute_result"
    }
   ],
   "source": [
    "audio_devices"
   ]
  },
  {
   "cell_type": "code",
   "execution_count": 20,
   "metadata": {},
   "outputs": [
    {
     "name": "stdout",
     "output_type": "stream",
     "text": [
      "Recording\n"
     ]
    },
    {
     "name": "stderr",
     "output_type": "stream",
     "text": [
      "100%|██████████| 10/10 [00:10<00:00,  1.01s/it]"
     ]
    },
    {
     "name": "stdout",
     "output_type": "stream",
     "text": [
      "Done\n"
     ]
    },
    {
     "name": "stderr",
     "output_type": "stream",
     "text": [
      "\n"
     ]
    }
   ],
   "source": [
    "# record from the back hole for 10 seconds\n",
    "duration = 10\n",
    "fs = 44100\n",
    "recording = np.array([])\n",
    "print('Recording')\n",
    "with sd.InputStream(device=device_index, channels=1, samplerate=fs) as stream:\n",
    "    for i in tqdm(range(int(duration))):\n",
    "        recording = np.append(recording, stream.read(fs)[0])\n",
    "print('Done')\n"
   ]
  },
  {
   "cell_type": "code",
   "execution_count": 21,
   "metadata": {},
   "outputs": [],
   "source": [
    "sd.play(recording, fs)"
   ]
  },
  {
   "cell_type": "code",
   "execution_count": 6,
   "metadata": {},
   "outputs": [],
   "source": [
    "lights = {}\n",
    "for i in range(1,5):\n",
    "    lights[str(i)] = dmx.add_fixture(Dimmer)\n",
    "lights['strobe_speed'] = dmx.add_fixture(Dimmer)\n",
    "lights['strobe_intensity'] = dmx.add_fixture(Dimmer)"
   ]
  },
  {
   "cell_type": "code",
   "execution_count": 7,
   "metadata": {},
   "outputs": [
    {
     "data": {
      "text/plain": [
       "<PyDMXControl.profiles.Generic._Dimmer.Dimmer at 0x12c565f50>"
      ]
     },
     "execution_count": 7,
     "metadata": {},
     "output_type": "execute_result"
    }
   ],
   "source": [
    "# turn on 1\n",
    "lights['1'].set_channels([0])"
   ]
  },
  {
   "cell_type": "code",
   "execution_count": 9,
   "metadata": {},
   "outputs": [
    {
     "name": "stdout",
     "output_type": "stream",
     "text": [
      "1.5793228149414062\n",
      "2.5732150077819824\n",
      "2.9658994674682617\n",
      "2.9324588775634766\n",
      "1.1882734298706055\n",
      "0.8692131042480469\n",
      "1.7143712043762207\n",
      "2.458073139190674\n",
      "2.6385836601257324\n",
      "1.9523496627807617\n",
      "0.4688243865966797\n",
      "0.7707633972167969\n",
      "1.4572324752807617\n",
      "1.8086509704589844\n",
      "1.9951629638671875\n",
      "1.3754568099975586\n",
      "0.3264651298522949\n",
      "0.6851596832275391\n",
      "1.4385647773742676\n",
      "1.887535810470581\n",
      "1.5744647979736328\n",
      "0.8792829513549805\n",
      "0.0007863044738769531\n",
      "0.6516690254211426\n",
      "1.2555062770843506\n",
      "1.4016369581222534\n",
      "1.0980873107910156\n",
      "0.7275886535644531\n",
      "0.12574052810668945\n",
      "0.6408061981201172\n",
      "1.1428288221359253\n",
      "1.2851811647415161\n",
      "1.0606610774993896\n",
      "0.4905071258544922\n",
      "0.0022382736206054688\n",
      "0.6718900203704834\n",
      "0.8798226118087769\n",
      "0.7734405994415283\n",
      "0.7449840307235718\n",
      "0.15893316268920898\n",
      "0.5538064241409302\n",
      "1.0503880977630615\n",
      "2.1249375343322754\n",
      "0.8161828517913818\n",
      "0.03604006767272949\n",
      "0.5559711456298828\n",
      "0.7103159427642822\n",
      "0.7792258262634277\n",
      "0.885765790939331\n",
      "0.550133466720581\n",
      "0.3337319493293762\n",
      "1.1636120080947876\n",
      "0.6590549945831299\n",
      "0.0993448942899704\n",
      "1.6242554187774658\n",
      "8.597269058227539\n",
      "20.673120498657227\n",
      "31.687068939208984\n",
      "12.85879898071289\n",
      "20.800281524658203\n",
      "7.07843017578125\n",
      "4.662626266479492\n",
      "6.396213531494141\n",
      "4.837155342102051\n",
      "1.359138011932373\n",
      "0.3168339729309082\n",
      "0.2155930995941162\n",
      "0.04233831167221069\n",
      "0.32671862840652466\n",
      "0.09387467801570892\n",
      "0.08122437447309494\n",
      "0.0023811496794223785\n",
      "0.05686765909194946\n",
      "0.04334748536348343\n",
      "0.005413956940174103\n",
      "0.01993771642446518\n",
      "0.0011123912408947945\n",
      "0.037039246410131454\n",
      "0.016380788758397102\n",
      "0.7618081569671631\n",
      "3.957879066467285\n",
      "6.382436752319336\n",
      "17.18230628967285\n",
      "21.554767608642578\n",
      "16.29457664489746\n",
      "0.6334075927734375\n",
      "6.651752471923828\n",
      "7.170499801635742\n",
      "2.318415641784668\n",
      "0.19916081428527832\n",
      "0.06948673725128174\n",
      "0.7333630323410034\n",
      "1.7129790782928467\n",
      "0.5676611065864563\n",
      "0.09985637664794922\n",
      "0.2467503547668457\n",
      "0.15342843532562256\n",
      "0.10826350748538971\n",
      "0.024845287203788757\n",
      "0.23803851008415222\n",
      "0.0936654806137085\n",
      "0.30979013442993164\n",
      "0.1780816912651062\n",
      "0.17977274954319\n",
      "0.1621745228767395\n",
      "0.06213189661502838\n",
      "0.13304992020130157\n",
      "0.024439848959445953\n",
      "0.0529039092361927\n",
      "0.03591543436050415\n",
      "0.04351392388343811\n",
      "0.06872602552175522\n",
      "0.009162269532680511\n",
      "0.11244606971740723\n",
      "0.12084252387285233\n",
      "0.03322790563106537\n",
      "0.14967463910579681\n",
      "0.1268208920955658\n",
      "0.2084580659866333\n",
      "0.42669370770454407\n",
      "0.7874572277069092\n",
      "1.182874083518982\n",
      "0.5973238348960876\n",
      "0.7897503972053528\n",
      "2.1675057411193848\n",
      "3.206699848175049\n",
      "1.8492236137390137\n",
      "0.8710504174232483\n",
      "3.016833782196045\n",
      "2.08552622795105\n",
      "1.0334563255310059\n",
      "2.29695463180542\n",
      "0.9256791472434998\n",
      "1.432447075843811\n",
      "0.6998043060302734\n",
      "1.506373405456543\n",
      "2.0256383419036865\n",
      "0.628292441368103\n",
      "0.5648795366287231\n",
      "0.14580386877059937\n",
      "5.531834602355957\n",
      "9.346039772033691\n",
      "26.009389877319336\n",
      "26.07920265197754\n",
      "9.900674819946289\n",
      "4.205081939697266\n",
      "17.289464950561523\n",
      "23.21552276611328\n",
      "16.821929931640625\n",
      "1.6916999816894531\n",
      "6.057727813720703\n",
      "6.675182342529297\n",
      "8.987964630126953\n",
      "10.418863296508789\n",
      "7.674591064453125\n",
      "4.318214416503906\n",
      "12.208940505981445\n",
      "15.464534759521484\n",
      "12.86985969543457\n",
      "7.780437469482422\n",
      "2.6137962341308594\n",
      "10.865859985351562\n",
      "12.896544456481934\n"
     ]
    },
    {
     "ename": "KeyboardInterrupt",
     "evalue": "",
     "output_type": "error",
     "traceback": [
      "\u001b[0;31m---------------------------------------------------------------------------\u001b[0m",
      "\u001b[0;31mKeyboardInterrupt\u001b[0m                         Traceback (most recent call last)",
      "\u001b[1;32m/Users/f004swn/Documents/creative/PlaylistPulser/dmx_dev.ipynb Cell 13\u001b[0m line \u001b[0;36m7\n\u001b[1;32m     <a href='vscode-notebook-cell:/Users/f004swn/Documents/creative/PlaylistPulser/dmx_dev.ipynb#X45sZmlsZQ%3D%3D?line=66'>67</a>\u001b[0m \u001b[39mwith\u001b[39;00m sd\u001b[39m.\u001b[39mInputStream(callback\u001b[39m=\u001b[39mlight_sound, device\u001b[39m=\u001b[39mdevice_index, channels\u001b[39m=\u001b[39m\u001b[39m1\u001b[39m, samplerate\u001b[39m=\u001b[39m\u001b[39m16000\u001b[39m, blocksize\u001b[39m=\u001b[39mblocksize):\n\u001b[1;32m     <a href='vscode-notebook-cell:/Users/f004swn/Documents/creative/PlaylistPulser/dmx_dev.ipynb#X45sZmlsZQ%3D%3D?line=67'>68</a>\u001b[0m     \u001b[39m# print the blocksize\u001b[39;00m\n\u001b[1;32m     <a href='vscode-notebook-cell:/Users/f004swn/Documents/creative/PlaylistPulser/dmx_dev.ipynb#X45sZmlsZQ%3D%3D?line=68'>69</a>\u001b[0m     \n\u001b[1;32m     <a href='vscode-notebook-cell:/Users/f004swn/Documents/creative/PlaylistPulser/dmx_dev.ipynb#X45sZmlsZQ%3D%3D?line=69'>70</a>\u001b[0m     \u001b[39m#sd.sleep(360000)\u001b[39;00m\n\u001b[1;32m     <a href='vscode-notebook-cell:/Users/f004swn/Documents/creative/PlaylistPulser/dmx_dev.ipynb#X45sZmlsZQ%3D%3D?line=70'>71</a>\u001b[0m     \u001b[39mwhile\u001b[39;00m \u001b[39mTrue\u001b[39;00m:\n\u001b[0;32m---> <a href='vscode-notebook-cell:/Users/f004swn/Documents/creative/PlaylistPulser/dmx_dev.ipynb#X45sZmlsZQ%3D%3D?line=71'>72</a>\u001b[0m         \u001b[39mcontinue\u001b[39;00m\n",
      "\u001b[0;31mKeyboardInterrupt\u001b[0m: "
     ]
    }
   ],
   "source": [
    "samplerate = 16000\n",
    "# set the blocksize to 40Hz\n",
    "blocksize = int(round(samplerate/40))\n",
    "\n",
    "bass_range = [0, 8]\n",
    "mid_range = [10, 30]\n",
    "high_hat_range = [120, 200]\n",
    "\n",
    "testvals = []\n",
    "fft_spectrogram = []\n",
    "max = 35\n",
    "max_threshold = 20\n",
    "min_threshold = 5\n",
    "inter_brightness = 50\n",
    "basspowers = []\n",
    "highhats = []\n",
    "power_spectra = []\n",
    "\n",
    "high_thresh = 1\n",
    "\n",
    "mids = []\n",
    "\n",
    "total_powers = []\n",
    "\n",
    "def light_sound(indata, outdata, frames, time, status=None):\n",
    "    global power_spectrum\n",
    "    power_spectrum = np.abs(np.fft.rfft(np.sum(indata, axis=0), n=blocksize))\n",
    "    total_power = np.sum(power_spectrum)\n",
    "    total_powers.append(total_power)\n",
    "    power_spectra.append(power_spectrum.tolist())\n",
    "    # get the average power in the bass range\n",
    "    bass_power = np.mean(power_spectrum[bass_range[0]:bass_range[1]])\n",
    "    print(bass_power)\n",
    "    basspowers.append(bass_power)\n",
    "    if bass_power > max:\n",
    "        lights['1'].dim(255)\n",
    "        #lights['strobe_intensity'].dim(255)\n",
    "        #lights['strobe_speed'].dim(255)\n",
    "    elif bass_power < min_threshold:\n",
    "        lights['1'].dim(0)\n",
    "    else:\n",
    "        lights['1'].dim(int(inter_brightness*(bass_power-min_threshold)/(max_threshold-min_threshold)))\n",
    "\n",
    "    # get the average power in the high hat range\n",
    "    high_hat_power = np.mean(power_spectrum[high_hat_range[0]:high_hat_range[1]])\n",
    "    highhats.append(high_hat_power)\n",
    "\n",
    "    # if high_hat_power > high_thresh:\n",
    "    #     lights['strobe_intensity'].dim(255)\n",
    "    #     lights['strobe_speed'].dim(255)\n",
    "    # elif high_hat_power < high_thresh:\n",
    "    #     lights['strobe_intensity'].dim(0)\n",
    "    #     lights['strobe_speed'].dim(0)\n",
    "\n",
    "    # get the average power in the mid range\n",
    "    # mid_power = np.mean(power_spectrum[mid_range[0]:mid_range[1]])\n",
    "    # mids.append(mid_power)\n",
    "    # if mid_power > max:\n",
    "    #     lights['2'].dim(255)\n",
    "    # elif mid_power < min_threshold:\n",
    "    #     lights['2'].dim(MIN_)\n",
    "    # else:\n",
    "    #     lights['2'].dim(int(inter_brightness*(mid_power-min_threshold)/(max_threshold-min_threshold)))\n",
    "    \n",
    "    \n",
    "\n",
    "with sd.InputStream(callback=light_sound, device=device_index, channels=1, samplerate=16000, blocksize=blocksize):\n",
    "    # print the blocksize\n",
    "    \n",
    "    #sd.sleep(360000)\n",
    "    while True:\n",
    "        continue"
   ]
  },
  {
   "cell_type": "code",
   "execution_count": null,
   "metadata": {},
   "outputs": [],
   "source": [
    "# make a spooky flicker effect\n",
    "state = 'off'\n",
    "while True:\n",
    "    if state == 'off':\n",
    "        val = 0\n",
    "        state = 'on'\n",
    "    else:\n",
    "        val = 255\n",
    "        state = 'off'\n",
    "    time.sleep(1/36)\n",
    "    #val = np.random.randint(100, 255)\n",
    "    # alternate between off and on\n",
    "    party['ropes'].dim(val)"
   ]
  },
  {
   "cell_type": "code",
   "execution_count": 9,
   "metadata": {},
   "outputs": [
    {
     "ename": "ChannelNotFoundException",
     "evalue": "Channel dimmer not found for fixture #7",
     "output_type": "error",
     "traceback": [
      "\u001b[0;31m---------------------------------------------------------------------------\u001b[0m",
      "\u001b[0;31mChannelNotFoundException\u001b[0m                  Traceback (most recent call last)",
      "\u001b[1;32m/Users/f004swn/Documents/creative/PlaylistPulser/dmx_dev.ipynb Cell 17\u001b[0m line \u001b[0;36m3\n\u001b[1;32m      <a href='vscode-notebook-cell:/Users/f004swn/Documents/creative/PlaylistPulser/dmx_dev.ipynb#X55sZmlsZQ%3D%3D?line=0'>1</a>\u001b[0m \u001b[39m# turn everything off\u001b[39;00m\n\u001b[1;32m      <a href='vscode-notebook-cell:/Users/f004swn/Documents/creative/PlaylistPulser/dmx_dev.ipynb#X55sZmlsZQ%3D%3D?line=1'>2</a>\u001b[0m \u001b[39mfor\u001b[39;00m key \u001b[39min\u001b[39;00m party:\n\u001b[0;32m----> <a href='vscode-notebook-cell:/Users/f004swn/Documents/creative/PlaylistPulser/dmx_dev.ipynb#X55sZmlsZQ%3D%3D?line=2'>3</a>\u001b[0m     party[key]\u001b[39m.\u001b[39;49mdim(\u001b[39m0\u001b[39;49m)\n",
      "File \u001b[0;32m~/anaconda3/envs/spotify/lib/python3.11/site-packages/PyDMXControl/profiles/defaults/_Fixture.py:53\u001b[0m, in \u001b[0;36mFixtureHelpers.dim\u001b[0;34m(self, target_value, milliseconds, channel)\u001b[0m\n\u001b[1;32m     51\u001b[0m millis \u001b[39m=\u001b[39m \u001b[39mmax\u001b[39m(milliseconds, \u001b[39m0\u001b[39m)\n\u001b[1;32m     52\u001b[0m \u001b[39mif\u001b[39;00m millis \u001b[39m==\u001b[39m \u001b[39m0\u001b[39m:\n\u001b[0;32m---> 53\u001b[0m     \u001b[39mself\u001b[39;49m\u001b[39m.\u001b[39;49mset_channel(channel, \u001b[39mint\u001b[39;49m(target_value))\n\u001b[1;32m     54\u001b[0m     \u001b[39mreturn\u001b[39;00m \u001b[39mself\u001b[39m\n\u001b[1;32m     56\u001b[0m \u001b[39m# Calculate what we need\u001b[39;00m\n",
      "File \u001b[0;32m~/anaconda3/envs/spotify/lib/python3.11/site-packages/PyDMXControl/profiles/defaults/_Fixture.py:294\u001b[0m, in \u001b[0;36mFixture.set_channel\u001b[0;34m(self, channel, value)\u001b[0m\n\u001b[1;32m    291\u001b[0m \u001b[39mif\u001b[39;00m \u001b[39mnot\u001b[39;00m \u001b[39mself\u001b[39m\u001b[39m.\u001b[39m_valid_channel_value(value, channel):\n\u001b[1;32m    292\u001b[0m     \u001b[39mreturn\u001b[39;00m \u001b[39mself\u001b[39m\n\u001b[0;32m--> 294\u001b[0m \u001b[39mself\u001b[39m\u001b[39m.\u001b[39m__channels[\u001b[39mself\u001b[39;49m\u001b[39m.\u001b[39;49mget_channel_id(channel)]\u001b[39m.\u001b[39mset_value(value)\n\u001b[1;32m    295\u001b[0m \u001b[39mreturn\u001b[39;00m \u001b[39mself\u001b[39m\n",
      "File \u001b[0;32m~/anaconda3/envs/spotify/lib/python3.11/site-packages/PyDMXControl/profiles/defaults/_Fixture.py:278\u001b[0m, in \u001b[0;36mFixture.get_channel_id\u001b[0;34m(self, channel)\u001b[0m\n\u001b[1;32m    275\u001b[0m     \u001b[39mif\u001b[39;00m chan\u001b[39m.\u001b[39mname \u001b[39m==\u001b[39m channel:\n\u001b[1;32m    276\u001b[0m         \u001b[39mreturn\u001b[39;00m i\n\u001b[0;32m--> 278\u001b[0m \u001b[39mraise\u001b[39;00m ChannelNotFoundException(channel, \u001b[39mself\u001b[39m\u001b[39m.\u001b[39mid)\n",
      "\u001b[0;31mChannelNotFoundException\u001b[0m: Channel dimmer not found for fixture #7"
     ]
    }
   ],
   "source": [
    "# turn everything off\n",
    "for key in party:\n",
    "    party[key].dim(0)"
   ]
  },
  {
   "cell_type": "code",
   "execution_count": 8,
   "metadata": {},
   "outputs": [],
   "source": [
    "# make it go for 5 seconds\n",
    "start = time.time()\n",
    "while time.time() - start < 5:\n",
    "    val = np.random.randint(50, 200)\n",
    "    party['ropes'].dim(val)"
   ]
  },
  {
   "cell_type": "code",
   "execution_count": 10,
   "metadata": {},
   "outputs": [],
   "source": [
    "SAMPLERATE = 16000\n",
    "MINIMUM_FREQUENCY = 20\n",
    "BLOCKSIZE = int(round(SAMPLERATE/MINIMUM_FREQUENCY))"
   ]
  },
  {
   "cell_type": "code",
   "execution_count": 57,
   "metadata": {},
   "outputs": [
    {
     "data": {
      "text/plain": [
       "dict_keys(['ropes', 'discoball', 'lasers', 'lamp', 'strobe_speed', 'strobe_intensity', 'rgb1', 'rgb2', 'rgb3', 'rgb4', 'rgb5', 'rgb6', 'rgb7', 'rgb8'])"
      ]
     },
     "execution_count": 57,
     "metadata": {},
     "output_type": "execute_result"
    },
    {
     "name": "stderr",
     "output_type": "stream",
     "text": [
      "/Users/f004swn/anaconda3/envs/spotify/lib/python3.11/site-packages/PyDMXControl/utils/timing/_Ticker.py:79: UserWarning: Ticker loop behind by 5.377034505208332ms, took 22.043701171875ms\n",
      "  warn(\"Ticker loop behind by {:,}ms, took {:,}ms\".format(-wait_dur, loop_dur))\n"
     ]
    }
   ],
   "source": [
    "party.keys()"
   ]
  },
  {
   "cell_type": "code",
   "execution_count": 48,
   "metadata": {},
   "outputs": [
    {
     "ename": "KeyboardInterrupt",
     "evalue": "",
     "output_type": "error",
     "traceback": [
      "\u001b[0;31m---------------------------------------------------------------------------\u001b[0m",
      "\u001b[0;31mKeyboardInterrupt\u001b[0m                         Traceback (most recent call last)",
      "\u001b[1;32m/Users/f004swn/Documents/creative/PlaylistPulser/dmx_dev.ipynb Cell 20\u001b[0m line \u001b[0;36m5\n\u001b[1;32m     <a href='vscode-notebook-cell:/Users/f004swn/Documents/creative/PlaylistPulser/dmx_dev.ipynb#X23sZmlsZQ%3D%3D?line=46'>47</a>\u001b[0m \u001b[39mwith\u001b[39;00m sd\u001b[39m.\u001b[39mInputStream(callback\u001b[39m=\u001b[39mlight_sound, device\u001b[39m=\u001b[39mdevice_index, channels\u001b[39m=\u001b[39m\u001b[39m16\u001b[39m, samplerate\u001b[39m=\u001b[39mSAMPLERATE, blocksize\u001b[39m=\u001b[39mBLOCKSIZE):\n\u001b[1;32m     <a href='vscode-notebook-cell:/Users/f004swn/Documents/creative/PlaylistPulser/dmx_dev.ipynb#X23sZmlsZQ%3D%3D?line=47'>48</a>\u001b[0m     \u001b[39m# blocksize is 20Hz, which corresponds to 50ms, or 1/20th of a second\u001b[39;00m\n\u001b[1;32m     <a href='vscode-notebook-cell:/Users/f004swn/Documents/creative/PlaylistPulser/dmx_dev.ipynb#X23sZmlsZQ%3D%3D?line=48'>49</a>\u001b[0m     \u001b[39m# so the number of samples in each block is 1/20th of the sample rate, which is 800\u001b[39;00m\n\u001b[1;32m     <a href='vscode-notebook-cell:/Users/f004swn/Documents/creative/PlaylistPulser/dmx_dev.ipynb#X23sZmlsZQ%3D%3D?line=49'>50</a>\u001b[0m     \u001b[39mwhile\u001b[39;00m \u001b[39mTrue\u001b[39;00m:\n\u001b[0;32m---> <a href='vscode-notebook-cell:/Users/f004swn/Documents/creative/PlaylistPulser/dmx_dev.ipynb#X23sZmlsZQ%3D%3D?line=50'>51</a>\u001b[0m         \u001b[39mcontinue\u001b[39;00m\n",
      "\u001b[0;31mKeyboardInterrupt\u001b[0m: "
     ]
    }
   ],
   "source": [
    "SAMPLERATE = 16000\n",
    "# set the blocksize to 20Hz\n",
    "MINIMUM_FREQUENCY = 20\n",
    "BLOCKSIZE = int(round(SAMPLERATE/MINIMUM_FREQUENCY))\n",
    "\n",
    "# the frequency range for the bass\n",
    "BASS_RANGE = [20, 200]\n",
    "MID_RANGE = [350, 2000]\n",
    "HIGH_RANGE = [1500, 20000]\n",
    "\n",
    "BASS_MAX = 35\n",
    "BASS_MAX_THRESHOLD = 10\n",
    "BASS_MIN_THRESHOLD = 5\n",
    "INTER_BRIGHTNESS = 50\n",
    "\n",
    "MIN_BASS_BRIGHTNESS = 20\n",
    "\n",
    "BASS_POWER_RANGE = BASS_MAX_THRESHOLD - BASS_MIN_THRESHOLD\n",
    "BASS_BRIGHTNESS_RANGE = 255 - MIN_BASS_BRIGHTNESS\n",
    "\n",
    "def get_bass_brightness(bass_power):\n",
    "    return int(MIN_BASS_BRIGHTNESS + (bass_power - BASS_MIN_THRESHOLD) * (BASS_BRIGHTNESS_RANGE / BASS_POWER_RANGE))\n",
    "\n",
    "HIGH_THRESH = 1\n",
    "\n",
    "def light_sound(indata, outdata, frames, time, status=None):\n",
    "    power_spectrum = np.abs(np.fft.rfft(np.sum(indata[:, :2], axis=1), n=BLOCKSIZE))\n",
    "    total_power = np.sum(power_spectrum)\n",
    "    bass_power = np.mean(power_spectrum[BASS_RANGE[0]:BASS_RANGE[1]])\n",
    "\n",
    "    if bass_power > BASS_MAX:\n",
    "        party['ropes'].dim(255)\n",
    "        party['strobe_intensity'].dim(255)\n",
    "        party['strobe_speed'].dim(255)\n",
    "    elif bass_power < BASS_MIN_THRESHOLD:\n",
    "        party['ropes'].dim(MIN_BASS_BRIGHTNESS)\n",
    "    else:\n",
    "        # map between min bass brightness and max bass brightness\n",
    "        party['ropes'].dim(get_bass_brightness(bass_power))\n",
    "\n",
    "\n",
    "\n",
    "\n",
    "    # get the average power in the mid range\n",
    "    mid_power = np.mean(power_spectrum[MID_RANGE[0]:MID_RANGE[1]])\n",
    "\n",
    "with sd.InputStream(callback=light_sound, device=device_index, channels=16, samplerate=SAMPLERATE, blocksize=BLOCKSIZE):\n",
    "    # blocksize is 20Hz, which corresponds to 50ms, or 1/20th of a second\n",
    "    # so the number of samples in each block is 1/20th of the sample rate, which is 800\n",
    "    while True:\n",
    "        continue"
   ]
  },
  {
   "cell_type": "code",
   "execution_count": 11,
   "metadata": {},
   "outputs": [],
   "source": [
    "# make a dict of RGB colors to their DMX values\n",
    "# this is the color wheel\n",
    "colors = {\n",
    "    'red': [255, 0, 0],\n",
    "    'orange': [255, 127, 0],\n",
    "    'yellow': [255, 255, 0],\n",
    "    'green': [0, 255, 0],\n",
    "    'blue': [0, 0, 255],\n",
    "    'purple': [75, 0, 130],\n",
    "    'pink': [255, 0, 255],\n",
    "    'white': [255, 255, 255]\n",
    "}\n",
    "\n",
    "def RGB(brightness=255, color='pink', strobe=False, strobe_speed=0):\n",
    "    \"\"\"\n",
    "    Returns the list of 7 DMX values for the RGB light\n",
    "    \"\"\"\n",
    "    if strobe:\n",
    "        strobe_val = 255\n",
    "    else:\n",
    "        strobe_val = 0\n",
    "    return [brightness, colors[color][0], colors[color][1], colors[color][2], strobe_speed, 0, 0]"
   ]
  },
  {
   "cell_type": "code",
   "execution_count": 12,
   "metadata": {},
   "outputs": [],
   "source": [
    "def get_bass_brightness(bass_power):\n",
    "    return int(MIN_BASS_BRIGHTNESS + (bass_power - BASS_MIN_THRESHOLD) * (BASS_BRIGHTNESS_RANGE / BASS_POWER_RANGE))"
   ]
  },
  {
   "cell_type": "code",
   "execution_count": 66,
   "metadata": {},
   "outputs": [],
   "source": [
    "# make the template scene dict\n",
    "SCENE_TEMPLATE = {\n",
    "    'BASS_RANGE': [20, 200], # frequency range for bass\n",
    "    'BASS_MAX': 35, # maximum bass power\n",
    "    'BASS_MAX_THRESHOLD': 10, # bass power that will trigger the scene\n",
    "    'BASS_MIN_THRESHOLD': 2, # bass power that will trigger the scene\n",
    "    'MIN_BASS_BRIGHTNESS': 20, # minimum brightness that will be reached\n",
    "    'MAX_BASS_BRIGHTNESS': 255, # maximum brightness that will be reached\n",
    "    'BASS_MAP': party['ropes'], # light that bass controls\n",
    "    'MID_RANGE': [350, 2000], # frequency range for mid\n",
    "    'HIGH_RANGE': [2000, 16000], # frequency range for high hat\n",
    "    'HIGH_THRESH': 2, # high hat power that will trigger the scene\n",
    "    'HIGH_MAP': party['strobe_intensity'], # light that high hat controls (usually strobe)\n",
    "    'STROBE_ENABLED': True, # whether the strobe will be enabled\n",
    "    'STROBE_SPEED': 255, # speed of the strobe\n",
    "    'DISCOBALL_ENABLED': True, # whether the discoball lights will be enabled\n",
    "    'LASERS_ENABLED': True, # whether the lasers will be enabled\n",
    "    'LAMP_ENABLED': True, # whether the lamp will be enabled\n",
    "    'RGB_ENABLED': True, # whether the RGB lights will be enabled\n",
    "    'RGB_MAX': 255, # maximum brightness of the RGB lights\n",
    "    'RGB_MIN': 0, # minimum brightness of the RGB lights\n",
    "    'RGB_THRESH': 1, # threshold for the RGB lights\n",
    "    'RGB_MODE': 0, # mode of the RGB lights (0 is monochrome, 1 is reactive)\n",
    "    'RGB_COLOR': 'pink', # color of the RGB lights (if monochrome)\n",
    "    'RGB_STROBE_TRIGGER': 1, # threshold for the RGB lights to strobe\n",
    "    'RGB_STROBE_SPEED': 255, # speed of the RGB lights when they strobe\n",
    "    'RGB_STROBE_INTENSITY': 255, # intensity of the RGB lights when they strobe\n",
    "    'RGB_STROBE_ENABLED': False, # whether the RGB lights will strobe\n",
    "    'RGB_STROBE_MODE': 0 # mode of the RGB lights when they strobe (0 is monochrome, 1 is reactive)\n",
    "}"
   ]
  },
  {
   "cell_type": "code",
   "execution_count": 56,
   "metadata": {},
   "outputs": [
    {
     "data": {
      "text/plain": [
       "<PyDMXControl.profiles.Generic._Custom.Custom at 0x12c51c750>"
      ]
     },
     "execution_count": 56,
     "metadata": {},
     "output_type": "execute_result"
    }
   ],
   "source": [
    "# set rgb1 to red\n",
    "party['rgb1'].set_channels(RGB(color='red'))"
   ]
  },
  {
   "cell_type": "code",
   "execution_count": 107,
   "metadata": {},
   "outputs": [],
   "source": [
    "# warm (for nice acoustic songs)\n",
    "warm = SCENE_TEMPLATE.copy()\n",
    "warm['RGB_ENABLED'] = False\n",
    "warm['STROBE_ENABLED'] = False\n",
    "warm['BASS_RANGE'] = [20, 1000]\n",
    "warm['MIN_BASS_BRIGHTNESS'] = 60\n",
    "warm['BASS_MAX_THRESHOLD'] = 40\n",
    "warm['LASERS_ENABLED'] = False\n",
    "warm['DISCOBALL_ENABLED'] = False\n",
    "\n",
    "# hip-hop\n",
    "hiphop = SCENE_TEMPLATE.copy()\n",
    "hiphop['BASS_RANGE'] = [20, 500]\n",
    "hiphop['DISCOBALL_ENABLED'] = False\n",
    "hiphop['LAMP_ENABLED'] = False\n",
    "hiphop['BASS_MAX_THRESHOLD'] = 150\n",
    "hiphop['MAX_BASS_BRIGHTNESS'] = 75\n",
    "hiphop['MIN_BASS_BRIGHTNESS'] = 0\n",
    "hiphop['HIGH_THRESH'] = 2.5\n",
    "\n",
    "# dubstep\n",
    "dubstep = SCENE_TEMPLATE.copy()\n",
    "dubstep['BASS_RANGE'] = [20, 200]\n",
    "dubstep['BASS_MAX'] = 100\n",
    "dubstep['BASS_MAX_THRESHOLD'] = 50\n",
    "dubstep['BASS_MIN_THRESHOLD'] = 5\n",
    "dubstep['MIN_BASS_BRIGHTNESS'] = 20\n",
    "dubstep['MAX_BASS_BRIGHTNESS'] = 100\n",
    "dubstep['RGB_ENABLED'] = True\n",
    "dubstep['RGB_MODE'] = 1\n",
    "dubstep['RGB_THRESH'] = 1\n",
    "dubstep['RGB_COLOR'] = 'blue'\n",
    "dubstep['RGB_STROBE_ENABLED'] = True\n",
    "dubstep['RGB_STROBE_MODE'] = 1\n",
    "dubstep['RGB_STROBE_TRIGGER'] = 1\n",
    "dubstep['RGB_STROBE_SPEED'] = 255\n",
    "dubstep['RGB_STROBE_INTENSITY'] = 255\n",
    "dubstep['STROBE_ENABLED'] = True\n",
    "dubstep['STROBE_SPEED'] = 255\n",
    "dubstep['DISCOBALL_ENABLED'] = False\n",
    "dubstep['LAMP_ENABLED'] = False\n",
    "\n",
    "# goosebumps\n",
    "goosebumps = SCENE_TEMPLATE.copy()\n",
    "goosebumps['RGB_MODE'] = 0\n",
    "goosebumps['RGB_COLOR'] = 'green'\n",
    "goosebumps['MIN_BASS_BRIGHTNESS'], goosebumps['MAX_BASS_BRIGHTNESS'] = 0, 0\n",
    "goosebumps['LASERS_ENABLED'] = True\n",
    "goosebumps['DISCOBALL_ENABLED'] = False\n",
    "goosebumps['BASS_MAP'] = party['rgb1']\n",
    "\n"
   ]
  },
  {
   "cell_type": "code",
   "execution_count": 83,
   "metadata": {},
   "outputs": [],
   "source": [
    "power_specs = []"
   ]
  },
  {
   "cell_type": "code",
   "execution_count": 84,
   "metadata": {},
   "outputs": [],
   "source": [
    "def freq_to_index(freq):\n",
    "    return int(round(freq * BLOCKSIZE / SAMPLERATE))"
   ]
  },
  {
   "cell_type": "code",
   "execution_count": 104,
   "metadata": {},
   "outputs": [],
   "source": [
    "# just make a function that makes a function (nested func) and then give that output to the callback\n",
    "# so it would be like with sd.InputStream(callback=light_sound(scene_dict), device=3, channels=16, samplerate=16000, blocksize=blocksize)\n",
    "\n",
    "def scene(scene_dict_template):\n",
    "    \"\"\"\n",
    "    Takes a scene dict, sets the lights to the init parameters, and returns a callback function to give to the \n",
    "    light controller thread.\n",
    "\n",
    "    scene_dict is a dictionary that has the following keys:\n",
    "    'BASS_RANGE': a list of two integers that are the start and end of the bass range\n",
    "    'BASS_MAX': the maximum bass power that will be reached\n",
    "    'BASS_MAX_THRESHOLD': the bass power that will trigger the scene\n",
    "    'BASS_MIN_THRESHOLD': the bass power that will trigger the scene\n",
    "    'MIN_BASS_BRIGHTNESS': the minimum brightness that will be reached\n",
    "    'MAX_BASS_BRIGHTNESS': the maximum brightness that will be reached\n",
    "    'BASS_MAP': the light that bass controls\n",
    "    'HIGH_RANGE': a list of two integers that are the start and end of the high hat range\n",
    "    'HIGH_THRESH': the high hat power that will trigger the scene\n",
    "    'HIGH_MAP': the light that high hat controls (usually strobe)\n",
    "    'STROBE_ENABLED': a boolean that determines whether the strobe will be enabled\n",
    "    'STROBE_SPEED': the speed of the strobe\n",
    "    'DISCOBALL_ENABLED': a boolean that determines whether the discoball lights will be enabled\n",
    "    'LASERS_ENABLED': a boolean that determines whether the lasers will be enabled\n",
    "    'LAMP_ENABLED': a boolean that determines whether the lamp will be enabled\n",
    "    'RGB_ENABLED': a boolean that determines whether the RGB lights will be enabled\n",
    "    'RGB_MAP': a list of integers that map the RGB lights to the frequency bins\n",
    "    'RGB_MAX': the maximum brightness of the RGB lights\n",
    "    'RGB_MIN': the minimum brightness of the RGB lights\n",
    "    'RGB_THRESH': the threshold for the RGB lights\n",
    "    'RGB_MODE': the mode of the RGB lights (0 is monochrome, 1 is reactive)\n",
    "    'RGB_COLOR': the color of the RGB lights (if monochrome)\n",
    "    'RGB_STROBE_TRIGGER': the threshold for the RGB lights to strobe\n",
    "    'RGB_STROBE_SPEED': the speed of the RGB lights when they strobe\n",
    "    'RGB_STROBE_INTENSITY': the intensity of the RGB lights when they strobe\n",
    "    'RGB_STROBE_ENABLED': a boolean that determines whether the RGB lights will strobe\n",
    "    'RGB_STROBE_MODE': the mode of the RGB lights when they strobe (0 is monochrome, 1 is reactive)\n",
    "    \"\"\"\n",
    "    scene_dict = scene_dict_template.copy()\n",
    "    # first update all the lights to match the scene\n",
    "    party['ropes'].dim(scene_dict['MIN_BASS_BRIGHTNESS'])\n",
    "    if scene_dict['DISCOBALL_ENABLED']:\n",
    "        party['discoball'].dim(255)\n",
    "    else:\n",
    "        party['discoball'].dim(0)\n",
    "    if scene_dict['LASERS_ENABLED']:\n",
    "        party['lasers'].dim(255)\n",
    "    else:\n",
    "        party['lasers'].dim(0)\n",
    "    if scene_dict['LAMP_ENABLED']:\n",
    "        party['lamp'].dim(255)\n",
    "    else:\n",
    "        party['lamp'].dim(0)\n",
    "\n",
    "    # get the rgb keys that exist in party\n",
    "    rgb_lights = []\n",
    "    for key in party.keys():\n",
    "        if 'rgb' in key:\n",
    "            rgb_lights.append(party[key])\n",
    "\n",
    "    \n",
    "    # init strobe to 0 always\n",
    "    party['strobe_intensity'].dim(0)\n",
    "    party['strobe_speed'].dim(0)\n",
    "\n",
    "    if scene_dict['RGB_ENABLED']:\n",
    "        if scene_dict['RGB_MODE'] == 0:\n",
    "            for i in rgb_lights:\n",
    "                i.set_channels(RGB(brightness=scene_dict['RGB_MAX'], color=scene_dict['RGB_COLOR']))\n",
    "        elif scene_dict['RGB_MODE'] == 1:\n",
    "            # do the reactive thing\n",
    "            # (just set to dim pink for now)\n",
    "            for i in rgb_lights:\n",
    "                i.set_channels(RGB(brightness=scene_dict['RGB_MAX'], color='pink'))\n",
    "\n",
    "\n",
    "    def get_dmx_value(bass_power, scene_dict):\n",
    "        BASS_BRIGHTNESS_RANGE = scene_dict['MAX_BASS_BRIGHTNESS'] - scene_dict['MIN_BASS_BRIGHTNESS']\n",
    "        BASS_POWER_RANGE = scene_dict['BASS_MAX_THRESHOLD'] - scene_dict['BASS_MIN_THRESHOLD']\n",
    "        dmx_value = int(scene_dict['MIN_BASS_BRIGHTNESS'] + (bass_power - scene_dict['BASS_MIN_THRESHOLD']) * (BASS_BRIGHTNESS_RANGE / BASS_POWER_RANGE))\n",
    "        return dmx_value\n",
    "\n",
    "    def get_bass_brightness(bass_power):\n",
    "        return int(scene_dict['MIN_BASS_BRIGHTNESS'] + (bass_power - scene_dict['BASS_MIN_THRESHOLD']) * (BASS_BRIGHTNESS_RANGE / BASS_POWER_RANGE))\n",
    "\n",
    "    # turn all the frequency bins into indices\n",
    "    scene_dict['BASS_RANGE'] = [freq_to_index(scene_dict['BASS_RANGE'][0]), freq_to_index(scene_dict['BASS_RANGE'][1])]\n",
    "    scene_dict['HIGH_RANGE'] = [freq_to_index(scene_dict['HIGH_RANGE'][0]), freq_to_index(scene_dict['HIGH_RANGE'][1])]\n",
    "    scene_dict['RGB_STROBE_TRIGGER'] = freq_to_index(scene_dict['RGB_STROBE_TRIGGER'])\n",
    "    # check if anything is mapped to the strobe:\n",
    "    strobe_maps = []\n",
    "    for par, val in scene_dict.items():\n",
    "        if party['strobe_intensity'] == val:\n",
    "            strobe_maps.append(par)\n",
    "    if not scene_dict['STROBE_ENABLED'] and (len(strobe_maps) > 0):\n",
    "        print('Warning: strobe is not enabled but is mapped to a parameter. Strobe will not be enabled.')\n",
    "        for par in strobe_maps:\n",
    "            scene_dict[par] = null\n",
    "\n",
    "    # turn lasers on or off\n",
    "    if scene_dict['LASERS_ENABLED']:\n",
    "        party['lasers'].dim(255)\n",
    "    else:\n",
    "        party['lasers'].dim(0)\n",
    "    \n",
    "\n",
    "    # now do the callback\n",
    "    def out_scene(indata, outdata, frames, time, status=None):\n",
    "        power_spectrum = np.abs(np.fft.rfft(np.sum(indata, axis=1), n=None))\n",
    "        power_specs.append(power_spectrum.tolist())\n",
    "        # get the average power in the bass range\n",
    "        bass_power = np.mean(power_spectrum[scene_dict['BASS_RANGE'][0]:scene_dict['BASS_RANGE'][1]])\n",
    "        # get the average power in the mid range\n",
    "        mid_power = np.mean(power_spectrum[scene_dict['MID_RANGE'][0]:scene_dict['MID_RANGE'][1]])\n",
    "        # get the average power in the high hat range\n",
    "        high_hat_power = np.mean(power_spectrum[scene_dict['HIGH_RANGE'][0]:scene_dict['HIGH_RANGE'][1]])\n",
    "        # get the total power\n",
    "        total_power = np.sum(power_spectrum)\n",
    "\n",
    "        # set the bass light\n",
    "        if bass_power > scene_dict['BASS_MAX']:\n",
    "            scene_dict['BASS_MAP'].dim(scene_dict['MAX_BASS_BRIGHTNESS'])\n",
    "        elif bass_power < scene_dict['BASS_MIN_THRESHOLD']:\n",
    "            scene_dict['BASS_MAP'].dim(scene_dict['MIN_BASS_BRIGHTNESS'])\n",
    "        else:\n",
    "            # map between min bass brightness and max bass brightness\n",
    "            scene_dict['BASS_MAP'].dim(get_dmx_value(bass_power, scene_dict))\n",
    "            print(get_bass_brightness(bass_power))\n",
    "\n",
    "        # set the high hat light\n",
    "        if high_hat_power > scene_dict['HIGH_THRESH']:\n",
    "            scene_dict['HIGH_MAP'].dim(255)\n",
    "        elif high_hat_power < scene_dict['HIGH_THRESH']:\n",
    "            scene_dict['HIGH_MAP'].dim(0)\n",
    "\n",
    "        # set the RGB lights\n",
    "        if scene_dict['RGB_ENABLED']:\n",
    "            if scene_dict['RGB_MODE'] == 1:\n",
    "                # reactive\n",
    "                if total_power > scene_dict['RGB_THRESH']:\n",
    "                    for i in rgb_lights:\n",
    "                        i.set_channels(RGB(brightness=scene_dict['RGB_MAX'], color='pink'))\n",
    "                else:\n",
    "                    for i in rgb_lights:\n",
    "                        i.set_channels(RGB(brightness=scene_dict['RGB_MIN'], color='pink'))\n",
    "\n",
    "        # set the strobe\n",
    "        if scene_dict['STROBE_ENABLED']:\n",
    "            if high_hat_power > scene_dict['HIGH_THRESH']:\n",
    "                party['strobe_intensity'].dim(255)\n",
    "                party['strobe_speed'].dim(255)\n",
    "            elif high_hat_power < scene_dict['HIGH_THRESH']:\n",
    "                party['strobe_intensity'].dim(0)\n",
    "                party['strobe_speed'].dim(0)\n",
    "\n",
    "    return out_scene"
   ]
  },
  {
   "cell_type": "code",
   "execution_count": 108,
   "metadata": {},
   "outputs": [
    {
     "name": "stderr",
     "output_type": "stream",
     "text": [
      "Exception ignored from cffi callback <function _StreamBase.__init__.<locals>.callback_ptr at 0x12aaa3d80>:\n",
      "Traceback (most recent call last):\n",
      "  File \"/Users/f004swn/anaconda3/envs/spotify/lib/python3.11/site-packages/sounddevice.py\", line 846, in callback_ptr\n",
      "    return _wrap_callback(callback, data, frames, time, status)\n",
      "           ^^^^^^^^^^^^^^^^^^^^^^^^^^^^^^^^^^^^^^^^^^^^^^^^^^^^\n",
      "  File \"/Users/f004swn/anaconda3/envs/spotify/lib/python3.11/site-packages/sounddevice.py\", line 2687, in _wrap_callback\n",
      "    callback(*args)\n",
      "  File \"/var/folders/l2/ydrm4wvj4fv10hb243tjbs0c0000gn/T/ipykernel_1620/1611086479.py\", line 121, in out_scene\n",
      "  File \"/Users/f004swn/anaconda3/envs/spotify/lib/python3.11/site-packages/PyDMXControl/profiles/defaults/_Fixture.py\", line 53, in dim\n",
      "    self.set_channel(channel, int(target_value))\n",
      "  File \"/Users/f004swn/anaconda3/envs/spotify/lib/python3.11/site-packages/PyDMXControl/profiles/defaults/_Fixture.py\", line 294, in set_channel\n",
      "    self.__channels[self.get_channel_id(channel)].set_value(value)\n",
      "                    ^^^^^^^^^^^^^^^^^^^^^^^^^^^^\n",
      "  File \"/Users/f004swn/anaconda3/envs/spotify/lib/python3.11/site-packages/PyDMXControl/profiles/defaults/_Fixture.py\", line 278, in get_channel_id\n",
      "    raise ChannelNotFoundException(channel, self.id)\n",
      "PyDMXControl.utils.exceptions.ChannelNotFoundException: Channel dimmer not found for fixture #7\n"
     ]
    },
    {
     "ename": "KeyboardInterrupt",
     "evalue": "",
     "output_type": "error",
     "traceback": [
      "\u001b[0;31m---------------------------------------------------------------------------\u001b[0m",
      "\u001b[0;31mKeyboardInterrupt\u001b[0m                         Traceback (most recent call last)",
      "\u001b[1;32m/Users/f004swn/Documents/creative/PlaylistPulser/dmx_dev.ipynb Cell 30\u001b[0m line \u001b[0;36m4\n\u001b[1;32m      <a href='vscode-notebook-cell:/Users/f004swn/Documents/creative/PlaylistPulser/dmx_dev.ipynb#X36sZmlsZQ%3D%3D?line=1'>2</a>\u001b[0m \u001b[39mwith\u001b[39;00m sd\u001b[39m.\u001b[39mInputStream(callback\u001b[39m=\u001b[39mtest_scene_callback, device\u001b[39m=\u001b[39mdevice_index, channels\u001b[39m=\u001b[39m\u001b[39m16\u001b[39m, samplerate\u001b[39m=\u001b[39m\u001b[39m16000\u001b[39m, blocksize\u001b[39m=\u001b[39mBLOCKSIZE):\n\u001b[1;32m      <a href='vscode-notebook-cell:/Users/f004swn/Documents/creative/PlaylistPulser/dmx_dev.ipynb#X36sZmlsZQ%3D%3D?line=2'>3</a>\u001b[0m     \u001b[39mwhile\u001b[39;00m \u001b[39mTrue\u001b[39;00m:\n\u001b[0;32m----> <a href='vscode-notebook-cell:/Users/f004swn/Documents/creative/PlaylistPulser/dmx_dev.ipynb#X36sZmlsZQ%3D%3D?line=3'>4</a>\u001b[0m         \u001b[39mcontinue\u001b[39;00m\n",
      "\u001b[0;31mKeyboardInterrupt\u001b[0m: "
     ]
    }
   ],
   "source": [
    "test_scene_callback = scene(goosebumps)\n",
    "with sd.InputStream(callback=test_scene_callback, device=device_index, channels=16, samplerate=16000, blocksize=BLOCKSIZE):\n",
    "    while True:\n",
    "        continue"
   ]
  },
  {
   "cell_type": "code",
   "execution_count": 46,
   "metadata": {},
   "outputs": [
    {
     "data": {
      "text/plain": [
       "<PyDMXControl.profiles.Generic._Dimmer.Dimmer at 0x12a4db610>"
      ]
     },
     "execution_count": 46,
     "metadata": {},
     "output_type": "execute_result"
    }
   ],
   "source": [
    "party['ropes'].dim(255)\n"
   ]
  },
  {
   "cell_type": "code",
   "execution_count": 30,
   "metadata": {},
   "outputs": [
    {
     "data": {
      "image/png": "[encoded data removed]",
      "text/plain": [
       "<Figure size 2000x1000 with 1 Axes>"
      ]
     },
     "metadata": {},
     "output_type": "display_data"
    }
   ],
   "source": [
    "# plot all the power specs\n",
    "plt.figure(figsize=(20, 10))\n",
    "plt.imshow(np.array(power_specs).T, aspect='auto')\n",
    "plt.show()\n"
   ]
  },
  {
   "cell_type": "code",
   "execution_count": 81,
   "metadata": {},
   "outputs": [
    {
     "data": {
      "text/plain": [
       "130"
      ]
     },
     "execution_count": 81,
     "metadata": {},
     "output_type": "execute_result"
    }
   ],
   "source": [
    "len(power_specs)"
   ]
  },
  {
   "cell_type": "code",
   "execution_count": null,
   "metadata": {},
   "outputs": [
    {
     "data": {
      "text/plain": [
       "<PyDMXControl.profiles.Generic._Dimmer.Dimmer at 0x11c135610>"
      ]
     },
     "execution_count": 6,
     "metadata": {},
     "output_type": "execute_result"
    }
   ],
   "source": [
    "# turn 1-4 on\n",
    "lights['1'].dim(255)\n",
    "lights['2'].dim(255)\n",
    "lights['3'].dim(255)\n",
    "lights['4'].dim(255)"
   ]
  },
  {
   "cell_type": "code",
   "execution_count": null,
   "metadata": {},
   "outputs": [
    {
     "data": {
      "text/plain": [
       "<PyDMXControl.profiles.Generic._Custom.Custom at 0x10df79520>"
      ]
     },
     "execution_count": 15,
     "metadata": {},
     "output_type": "execute_result"
    },
    {
     "name": "stderr",
     "output_type": "stream",
     "text": [
      "/Users/f004swn/anaconda3/envs/spotify/lib/python3.12/site-packages/PyDMXControl/utils/timing/_Ticker.py:79: UserWarning: Ticker loop behind by 4.225179036458332ms, took 20.891845703125ms\n",
      "  warn(\"Ticker loop behind by {:,}ms, took {:,}ms\".format(-wait_dur, loop_dur))\n",
      "/Users/f004swn/anaconda3/envs/spotify/lib/python3.12/site-packages/PyDMXControl/utils/timing/_Ticker.py:79: UserWarning: Ticker loop behind by 121.47639973958333ms, took 138.14306640625ms\n",
      "  warn(\"Ticker loop behind by {:,}ms, took {:,}ms\".format(-wait_dur, loop_dur))\n"
     ]
    }
   ],
   "source": [
    "# light up the RGB to white\n",
    "lights['rgb'].set_channels([255, 255, 255, 255, 0, 0, 0])"
   ]
  },
  {
   "cell_type": "code",
   "execution_count": 40,
   "metadata": {},
   "outputs": [],
   "source": [
    "# load in an audiofile and resample it down to 16000Hz\n",
    "local_sr = 16000\n",
    "song = librosa.load('downloads/21 Savage - Bank Account.mp3', sr=local_sr)[0]"
   ]
  },
  {
   "cell_type": "code",
   "execution_count": 41,
   "metadata": {},
   "outputs": [
    {
     "data": {
      "image/png": "[encoded data removed]",
      "text/plain": [
       "<Figure size 1000x400 with 2 Axes>"
      ]
     },
     "metadata": {},
     "output_type": "display_data"
    }
   ],
   "source": [
    "# use librosa to get MFCCs\n",
    "mfccs = librosa.feature.mfcc(y=song[:local_sr*10], sr=local_sr)\n",
    "\n",
    "# plot the MFCCs\n",
    "plt.figure(figsize=(10, 4)) \n",
    "librosa.display.specshow(mfccs, x_axis='time', y_axis='mel', fmin=20, fmax=20000)\n",
    "# plot the labeled colorbar\n",
    "plt.colorbar(format='%+2.0f dB')\n",
    "plt.title('MFCC')\n",
    "plt.tight_layout()\n",
    "plt.show()\n"
   ]
  },
  {
   "cell_type": "code",
   "execution_count": 42,
   "metadata": {},
   "outputs": [],
   "source": [
    "start, end = 0, 10\n",
    "sd.play(song[local_sr*start:local_sr*end], local_sr)\n"
   ]
  },
  {
   "cell_type": "code",
   "execution_count": 43,
   "metadata": {},
   "outputs": [],
   "source": [
    "SAMPLERATE = 16000\n",
    "# set the blocksize to 20Hz\n",
    "MINIMUM_FREQUENCY = 20\n",
    "BLOCKSIZE = int(round(SAMPLERATE/MINIMUM_FREQUENCY))"
   ]
  },
  {
   "cell_type": "code",
   "execution_count": 53,
   "metadata": {},
   "outputs": [
    {
     "data": {
      "image/png": "[encoded data removed]",
      "text/plain": [
       "<Figure size 640x480 with 1 Axes>"
      ]
     },
     "metadata": {},
     "output_type": "display_data"
    }
   ],
   "source": [
    "# get the rfft of the first 20Hz block\n",
    "power_spectrum = np.abs(np.fft.rfft(song[:BLOCKSIZE], n=BLOCKSIZE))\n",
    "# plot it with labeled axes\n",
    "plt.plot(power_spectrum)\n",
    "plt.xlabel('Frequency (Hz)')\n",
    "plt.ylabel('Power')\n",
    "plt.title('Power Spectrum')\n",
    "plt.show()"
   ]
  },
  {
   "cell_type": "code",
   "execution_count": 54,
   "metadata": {},
   "outputs": [
    {
     "data": {
      "text/plain": [
       "8.99627192115828e-11"
      ]
     },
     "execution_count": 54,
     "metadata": {},
     "output_type": "execute_result"
    }
   ],
   "source": []
  },
  {
   "cell_type": "code",
   "execution_count": null,
   "metadata": {},
   "outputs": [],
   "source": []
  }
 ],
 "metadata": {
  "kernelspec": {
   "display_name": "spotify",
   "language": "python",
   "name": "python3"
  },
  "language_info": {
   "codemirror_mode": {
    "name": "ipython",
    "version": 3
   },
   "file_extension": ".py",
   "mimetype": "text/x-python",
   "name": "python",
   "nbconvert_exporter": "python",
   "pygments_lexer": "ipython3",
   "version": "3.11.6"
  }
 },
 "nbformat": 4,
 "nbformat_minor": 2
}
