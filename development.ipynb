{
 "cells": [
  {
   "cell_type": "code",
   "execution_count": 3,
   "id": "eccc05383a7d970b",
   "metadata": {
    "collapsed": false
   },
   "outputs": [],
   "source": [
    "import spotipy\n",
    "from spotipy.oauth2 import SpotifyClientCredentials, SpotifyOAuth\n",
    "import os\n",
    "# get the client id and client secret from the text file\n",
    "with open('spotify_credentials.txt') as f:\n",
    "    client_id = f.readline().strip().split(' ')[1]\n",
    "    client_secret = f.readline().strip().split(' ')[1]\n",
    "    uri = f.readline().split(' ')[1][:-1]\n",
    "\n",
    "uri = 'http://localhost:8000'\n",
    "\n",
    "# set the environment variables\n",
    "os.environ['SPOTIPY_CLIENT_ID'] = client_id\n",
    "os.environ['SPOTIPY_CLIENT_SECRET'] = client_secret\n",
    "os.environ['SPOTIPY_REDIRECT_URI'] = uri\n",
    "#sp = spotipy.Spotify(client_credentials_manager=SpotifyClientCredentials())\n",
    "\n",
    "sp = spotipy.Spotify(auth_manager=SpotifyOAuth(client_id=client_id,\n",
    "                                               client_secret=client_secret,\n",
    "                                            #   redirect_uri=uri,\n",
    "                                               scope=\"user-library-read\"))\n",
    "\n",
    "scope = 'user-library-read'\n",
    "username = '1260351083'\n",
    "\n",
    "token = spotipy.util.prompt_for_user_token(username, scope)\n",
    "\n",
    "if token:\n",
    "    spotipy_obj = spotipy.Spotify(auth=token)\n",
    "    saved_tracks_resp = spotipy_obj.current_user_saved_tracks(limit=50)\n",
    "else:\n",
    "    print('Couldn\\'t get token for that username')"
   ]
  },
  {
   "cell_type": "code",
   "execution_count": 7,
   "id": "06d368ed",
   "metadata": {},
   "outputs": [
    {
     "name": "stderr",
     "output_type": "stream",
     "text": [
      "Using `localhost` as redirect URI without a port. Specify a port (e.g. `localhost:8080`) to allow automatic retrieval of authentication code instead of having to copy and paste the URL your browser is redirected to.\n"
     ]
    }
   ],
   "source": [
    "results = sp.search(q='weezer', limit=20)"
   ]
  },
  {
   "cell_type": "code",
   "execution_count": 27,
   "id": "6d923ac4",
   "metadata": {},
   "outputs": [
    {
     "data": {
      "text/plain": [
       "'Island In The Sun'"
      ]
     },
     "execution_count": 27,
     "metadata": {},
     "output_type": "execute_result"
    }
   ],
   "source": [
    "results['tracks']['items'][0]['name']"
   ]
  },
  {
   "cell_type": "code",
   "execution_count": 28,
   "id": "1385c7fc",
   "metadata": {},
   "outputs": [],
   "source": [
    "hp = 'spotify:playlist:1nNxmkhYsOpa6Ux9MFJLoc?si=0f6e01db9bf348b9'"
   ]
  },
  {
   "cell_type": "code",
   "execution_count": 29,
   "id": "48f35576",
   "metadata": {},
   "outputs": [
    {
     "ename": "SpotifyException",
     "evalue": "http status: 400, code:-1 - Unsupported URL / URI., reason: None",
     "output_type": "error",
     "traceback": [
      "\u001b[0;31m---------------------------------------------------------------------------\u001b[0m",
      "\u001b[0;31mSpotifyException\u001b[0m                          Traceback (most recent call last)",
      "\u001b[1;32m/Users/f004swn/Documents/creative/PlaylistPulser/development.ipynb Cell 5\u001b[0m line \u001b[0;36m4\n\u001b[1;32m      <a href='vscode-notebook-cell:/Users/f004swn/Documents/creative/PlaylistPulser/development.ipynb#X10sZmlsZQ%3D%3D?line=0'>1</a>\u001b[0m offset \u001b[39m=\u001b[39m \u001b[39m0\u001b[39m\n\u001b[1;32m      <a href='vscode-notebook-cell:/Users/f004swn/Documents/creative/PlaylistPulser/development.ipynb#X10sZmlsZQ%3D%3D?line=2'>3</a>\u001b[0m \u001b[39mwhile\u001b[39;00m \u001b[39mTrue\u001b[39;00m:\n\u001b[0;32m----> <a href='vscode-notebook-cell:/Users/f004swn/Documents/creative/PlaylistPulser/development.ipynb#X10sZmlsZQ%3D%3D?line=3'>4</a>\u001b[0m     response \u001b[39m=\u001b[39m sp\u001b[39m.\u001b[39;49mplaylist_items(hp,\n\u001b[1;32m      <a href='vscode-notebook-cell:/Users/f004swn/Documents/creative/PlaylistPulser/development.ipynb#X10sZmlsZQ%3D%3D?line=4'>5</a>\u001b[0m                                  offset\u001b[39m=\u001b[39;49moffset,\n\u001b[1;32m      <a href='vscode-notebook-cell:/Users/f004swn/Documents/creative/PlaylistPulser/development.ipynb#X10sZmlsZQ%3D%3D?line=5'>6</a>\u001b[0m                                  fields\u001b[39m=\u001b[39;49m\u001b[39m'\u001b[39;49m\u001b[39mitems.track.id,total\u001b[39;49m\u001b[39m'\u001b[39;49m,\n\u001b[1;32m      <a href='vscode-notebook-cell:/Users/f004swn/Documents/creative/PlaylistPulser/development.ipynb#X10sZmlsZQ%3D%3D?line=6'>7</a>\u001b[0m                                  additional_types\u001b[39m=\u001b[39;49m[\u001b[39m'\u001b[39;49m\u001b[39mtrack\u001b[39;49m\u001b[39m'\u001b[39;49m])\n",
      "File \u001b[0;32m~/anaconda3/envs/spotify/lib/python3.12/site-packages/spotipy/client.py:706\u001b[0m, in \u001b[0;36mSpotify.playlist_items\u001b[0;34m(self, playlist_id, fields, limit, offset, market, additional_types)\u001b[0m\n\u001b[1;32m    686\u001b[0m \u001b[39mdef\u001b[39;00m \u001b[39mplaylist_items\u001b[39m(\n\u001b[1;32m    687\u001b[0m     \u001b[39mself\u001b[39m,\n\u001b[1;32m    688\u001b[0m     playlist_id,\n\u001b[0;32m   (...)\u001b[0m\n\u001b[1;32m    693\u001b[0m     additional_types\u001b[39m=\u001b[39m(\u001b[39m\"\u001b[39m\u001b[39mtrack\u001b[39m\u001b[39m\"\u001b[39m, \u001b[39m\"\u001b[39m\u001b[39mepisode\u001b[39m\u001b[39m\"\u001b[39m)\n\u001b[1;32m    694\u001b[0m ):\n\u001b[1;32m    695\u001b[0m \u001b[39m    \u001b[39m\u001b[39m\"\"\" Get full details of the tracks and episodes of a playlist.\u001b[39;00m\n\u001b[1;32m    696\u001b[0m \n\u001b[1;32m    697\u001b[0m \u001b[39m        Parameters:\u001b[39;00m\n\u001b[0;32m   (...)\u001b[0m\n\u001b[1;32m    704\u001b[0m \u001b[39m                                 valid types are: track and episode\u001b[39;00m\n\u001b[1;32m    705\u001b[0m \u001b[39m    \"\"\"\u001b[39;00m\n\u001b[0;32m--> 706\u001b[0m     plid \u001b[39m=\u001b[39m \u001b[39mself\u001b[39;49m\u001b[39m.\u001b[39;49m_get_id(\u001b[39m\"\u001b[39;49m\u001b[39mplaylist\u001b[39;49m\u001b[39m\"\u001b[39;49m, playlist_id)\n\u001b[1;32m    707\u001b[0m     \u001b[39mreturn\u001b[39;00m \u001b[39mself\u001b[39m\u001b[39m.\u001b[39m_get(\n\u001b[1;32m    708\u001b[0m         \u001b[39m\"\u001b[39m\u001b[39mplaylists/\u001b[39m\u001b[39m%s\u001b[39;00m\u001b[39m/tracks\u001b[39m\u001b[39m\"\u001b[39m \u001b[39m%\u001b[39m (plid),\n\u001b[1;32m    709\u001b[0m         limit\u001b[39m=\u001b[39mlimit,\n\u001b[0;32m   (...)\u001b[0m\n\u001b[1;32m    713\u001b[0m         additional_types\u001b[39m=\u001b[39m\u001b[39m\"\u001b[39m\u001b[39m,\u001b[39m\u001b[39m\"\u001b[39m\u001b[39m.\u001b[39mjoin(additional_types)\n\u001b[1;32m    714\u001b[0m     )\n",
      "File \u001b[0;32m~/anaconda3/envs/spotify/lib/python3.12/site-packages/spotipy/client.py:1990\u001b[0m, in \u001b[0;36mSpotify._get_id\u001b[0;34m(self, type, id)\u001b[0m\n\u001b[1;32m   1987\u001b[0m     \u001b[39mreturn\u001b[39;00m \u001b[39mid\u001b[39m\n\u001b[1;32m   1989\u001b[0m \u001b[39m# TODO change to a ValueError in v3\u001b[39;00m\n\u001b[0;32m-> 1990\u001b[0m \u001b[39mraise\u001b[39;00m SpotifyException(\u001b[39m400\u001b[39m, \u001b[39m-\u001b[39m\u001b[39m1\u001b[39m, \u001b[39m\"\u001b[39m\u001b[39mUnsupported URL / URI.\u001b[39m\u001b[39m\"\u001b[39m)\n",
      "\u001b[0;31mSpotifyException\u001b[0m: http status: 400, code:-1 - Unsupported URL / URI., reason: None"
     ]
    }
   ],
   "source": [
    "offset = 0\n",
    "\n",
    "while True:\n",
    "    response = sp.playlist_items(hp,\n",
    "                                 offset=offset,\n",
    "                                 fields='items.track.id,total',\n",
    "                                 additional_types=['track'])"
   ]
  },
  {
   "cell_type": "code",
   "execution_count": null,
   "id": "53d2ede2",
   "metadata": {},
   "outputs": [],
   "source": []
  }
 ],
 "metadata": {
  "kernelspec": {
   "display_name": "Python 3",
   "language": "python",
   "name": "python3"
  },
  "language_info": {
   "codemirror_mode": {
    "name": "ipython",
    "version": 3
   },
   "file_extension": ".py",
   "mimetype": "text/x-python",
   "name": "python",
   "nbconvert_exporter": "python",
   "pygments_lexer": "ipython3",
   "version": "3.12.0"
  }
 },
 "nbformat": 4,
 "nbformat_minor": 5
}
